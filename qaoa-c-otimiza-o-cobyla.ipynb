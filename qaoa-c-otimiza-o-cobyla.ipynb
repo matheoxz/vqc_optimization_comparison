{
  "cells": [
    {
      "cell_type": "markdown",
      "metadata": {
        "id": "_wotVEziij9s"
      },
      "source": [
        "Instalar Qiskit e importar as bibliotecas necessárias, incluindo numpy e pandas"
      ]
    },
    {
      "cell_type": "code",
      "execution_count": null,
      "metadata": {
        "execution": {
          "iopub.execute_input": "2024-10-08T13:16:49.691467Z",
          "iopub.status.busy": "2024-10-08T13:16:49.691068Z",
          "iopub.status.idle": "2024-10-08T13:17:12.003372Z",
          "shell.execute_reply": "2024-10-08T13:17:12.001699Z",
          "shell.execute_reply.started": "2024-10-08T13:16:49.691432Z"
        },
        "trusted": true,
        "colab": {
          "base_uri": "https://localhost:8080/"
        },
        "id": "4vAPGP0uij9t",
        "outputId": "43e330ea-520d-4779-ae3d-e981f0fd4786"
      },
      "outputs": [
        {
          "output_type": "stream",
          "name": "stdout",
          "text": [
            "Collecting qiskit\n",
            "  Downloading qiskit-1.3.2-cp39-abi3-manylinux_2_17_x86_64.manylinux2014_x86_64.whl.metadata (12 kB)\n",
            "Collecting pylatexenc\n",
            "  Downloading pylatexenc-2.10.tar.gz (162 kB)\n",
            "\u001b[2K     \u001b[90m━━━━━━━━━━━━━━━━━━━━━━━━━━━━━━━━━━━━━━━━\u001b[0m \u001b[32m162.6/162.6 kB\u001b[0m \u001b[31m10.0 MB/s\u001b[0m eta \u001b[36m0:00:00\u001b[0m\n",
            "\u001b[?25h  Preparing metadata (setup.py) ... \u001b[?25l\u001b[?25hdone\n",
            "Collecting qiskit_algorithms\n",
            "  Downloading qiskit_algorithms-0.3.1-py3-none-any.whl.metadata (4.2 kB)\n",
            "Collecting qiskit_machine_learning\n",
            "  Downloading qiskit_machine_learning-0.8.2-py3-none-any.whl.metadata (13 kB)\n",
            "Collecting rustworkx>=0.15.0 (from qiskit)\n",
            "  Downloading rustworkx-0.16.0-cp39-abi3-manylinux_2_17_x86_64.manylinux2014_x86_64.whl.metadata (10 kB)\n",
            "Requirement already satisfied: numpy<3,>=1.17 in /usr/local/lib/python3.11/dist-packages (from qiskit) (1.26.4)\n",
            "Requirement already satisfied: scipy>=1.5 in /usr/local/lib/python3.11/dist-packages (from qiskit) (1.13.1)\n",
            "Requirement already satisfied: sympy>=1.3 in /usr/local/lib/python3.11/dist-packages (from qiskit) (1.13.1)\n",
            "Collecting dill>=0.3 (from qiskit)\n",
            "  Downloading dill-0.3.9-py3-none-any.whl.metadata (10 kB)\n",
            "Requirement already satisfied: python-dateutil>=2.8.0 in /usr/local/lib/python3.11/dist-packages (from qiskit) (2.8.2)\n",
            "Collecting stevedore>=3.0.0 (from qiskit)\n",
            "  Downloading stevedore-5.4.0-py3-none-any.whl.metadata (2.3 kB)\n",
            "Requirement already satisfied: typing-extensions in /usr/local/lib/python3.11/dist-packages (from qiskit) (4.12.2)\n",
            "Collecting symengine<0.14,>=0.11 (from qiskit)\n",
            "  Downloading symengine-0.13.0-cp311-cp311-manylinux_2_17_x86_64.manylinux2014_x86_64.whl.metadata (1.2 kB)\n",
            "Requirement already satisfied: psutil>=5 in /usr/local/lib/python3.11/dist-packages (from qiskit_machine_learning) (5.9.5)\n",
            "Requirement already satisfied: scikit-learn>=1.2 in /usr/local/lib/python3.11/dist-packages (from qiskit_machine_learning) (1.6.1)\n",
            "Requirement already satisfied: setuptools>=40.1 in /usr/local/lib/python3.11/dist-packages (from qiskit_machine_learning) (75.1.0)\n",
            "Requirement already satisfied: six>=1.5 in /usr/local/lib/python3.11/dist-packages (from python-dateutil>=2.8.0->qiskit) (1.17.0)\n",
            "Requirement already satisfied: joblib>=1.2.0 in /usr/local/lib/python3.11/dist-packages (from scikit-learn>=1.2->qiskit_machine_learning) (1.4.2)\n",
            "Requirement already satisfied: threadpoolctl>=3.1.0 in /usr/local/lib/python3.11/dist-packages (from scikit-learn>=1.2->qiskit_machine_learning) (3.5.0)\n",
            "Collecting pbr>=2.0.0 (from stevedore>=3.0.0->qiskit)\n",
            "  Downloading pbr-6.1.1-py2.py3-none-any.whl.metadata (3.4 kB)\n",
            "Requirement already satisfied: mpmath<1.4,>=1.1.0 in /usr/local/lib/python3.11/dist-packages (from sympy>=1.3->qiskit) (1.3.0)\n",
            "Downloading qiskit-1.3.2-cp39-abi3-manylinux_2_17_x86_64.manylinux2014_x86_64.whl (6.8 MB)\n",
            "\u001b[2K   \u001b[90m━━━━━━━━━━━━━━━━━━━━━━━━━━━━━━━━━━━━━━━━\u001b[0m \u001b[32m6.8/6.8 MB\u001b[0m \u001b[31m11.0 MB/s\u001b[0m eta \u001b[36m0:00:00\u001b[0m\n",
            "\u001b[?25hDownloading qiskit_algorithms-0.3.1-py3-none-any.whl (310 kB)\n",
            "\u001b[2K   \u001b[90m━━━━━━━━━━━━━━━━━━━━━━━━━━━━━━━━━━━━━━━━\u001b[0m \u001b[32m310.5/310.5 kB\u001b[0m \u001b[31m25.2 MB/s\u001b[0m eta \u001b[36m0:00:00\u001b[0m\n",
            "\u001b[?25hDownloading qiskit_machine_learning-0.8.2-py3-none-any.whl (231 kB)\n",
            "\u001b[2K   \u001b[90m━━━━━━━━━━━━━━━━━━━━━━━━━━━━━━━━━━━━━━━━\u001b[0m \u001b[32m231.6/231.6 kB\u001b[0m \u001b[31m17.8 MB/s\u001b[0m eta \u001b[36m0:00:00\u001b[0m\n",
            "\u001b[?25hDownloading dill-0.3.9-py3-none-any.whl (119 kB)\n",
            "\u001b[2K   \u001b[90m━━━━━━━━━━━━━━━━━━━━━━━━━━━━━━━━━━━━━━━━\u001b[0m \u001b[32m119.4/119.4 kB\u001b[0m \u001b[31m9.9 MB/s\u001b[0m eta \u001b[36m0:00:00\u001b[0m\n",
            "\u001b[?25hDownloading rustworkx-0.16.0-cp39-abi3-manylinux_2_17_x86_64.manylinux2014_x86_64.whl (2.1 MB)\n",
            "\u001b[2K   \u001b[90m━━━━━━━━━━━━━━━━━━━━━━━━━━━━━━━━━━━━━━━━\u001b[0m \u001b[32m2.1/2.1 MB\u001b[0m \u001b[31m75.1 MB/s\u001b[0m eta \u001b[36m0:00:00\u001b[0m\n",
            "\u001b[?25hDownloading stevedore-5.4.0-py3-none-any.whl (49 kB)\n",
            "\u001b[2K   \u001b[90m━━━━━━━━━━━━━━━━━━━━━━━━━━━━━━━━━━━━━━━━\u001b[0m \u001b[32m49.5/49.5 kB\u001b[0m \u001b[31m3.6 MB/s\u001b[0m eta \u001b[36m0:00:00\u001b[0m\n",
            "\u001b[?25hDownloading symengine-0.13.0-cp311-cp311-manylinux_2_17_x86_64.manylinux2014_x86_64.whl (49.7 MB)\n",
            "\u001b[2K   \u001b[90m━━━━━━━━━━━━━━━━━━━━━━━━━━━━━━━━━━━━━━━━\u001b[0m \u001b[32m49.7/49.7 MB\u001b[0m \u001b[31m16.6 MB/s\u001b[0m eta \u001b[36m0:00:00\u001b[0m\n",
            "\u001b[?25hDownloading pbr-6.1.1-py2.py3-none-any.whl (108 kB)\n",
            "\u001b[2K   \u001b[90m━━━━━━━━━━━━━━━━━━━━━━━━━━━━━━━━━━━━━━━━\u001b[0m \u001b[32m109.0/109.0 kB\u001b[0m \u001b[31m5.8 MB/s\u001b[0m eta \u001b[36m0:00:00\u001b[0m\n",
            "\u001b[?25hBuilding wheels for collected packages: pylatexenc\n",
            "  Building wheel for pylatexenc (setup.py) ... \u001b[?25l\u001b[?25hdone\n",
            "  Created wheel for pylatexenc: filename=pylatexenc-2.10-py3-none-any.whl size=136816 sha256=612d076d2d62671a3ba3544a191570b4e0f2e00a67d606a41a19e04ee175524c\n",
            "  Stored in directory: /root/.cache/pip/wheels/b1/7a/33/9fdd892f784ed4afda62b685ae3703adf4c91aa0f524c28f03\n",
            "Successfully built pylatexenc\n",
            "Installing collected packages: pylatexenc, symengine, rustworkx, pbr, dill, stevedore, qiskit, qiskit_machine_learning, qiskit_algorithms\n",
            "Successfully installed dill-0.3.9 pbr-6.1.1 pylatexenc-2.10 qiskit-1.3.2 qiskit_algorithms-0.3.1 qiskit_machine_learning-0.8.2 rustworkx-0.16.0 stevedore-5.4.0 symengine-0.13.0\n"
          ]
        }
      ],
      "source": [
        "!pip install qiskit pylatexenc qiskit_algorithms qiskit_machine_learning qiskit-aer-gpu"
      ]
    },
    {
      "cell_type": "markdown",
      "metadata": {
        "id": "lAdXiFosij9u"
      },
      "source": [
        "Separar datasets de treinamento e teste, separar as features que serão utilizadas.\n",
        "Preencher nan com a média de valores da coluna.  // Testar também normalização [0;pi]"
      ]
    },
    {
      "cell_type": "code",
      "execution_count": null,
      "metadata": {
        "execution": {
          "iopub.execute_input": "2024-10-08T13:19:21.428142Z",
          "iopub.status.busy": "2024-10-08T13:19:21.427245Z",
          "iopub.status.idle": "2024-10-08T13:19:21.439539Z",
          "shell.execute_reply": "2024-10-08T13:19:21.438257Z",
          "shell.execute_reply.started": "2024-10-08T13:19:21.428100Z"
        },
        "trusted": true,
        "id": "rNTZNhsSij9v"
      },
      "outputs": [],
      "source": [
        "import os\n",
        "for dirname, _, filenames in os.walk('/kaggle/input'):\n",
        "    for filename in filenames:\n",
        "        print(os.path.join(dirname, filename))"
      ]
    },
    {
      "cell_type": "code",
      "execution_count": null,
      "metadata": {
        "execution": {
          "iopub.execute_input": "2024-10-08T13:19:24.526660Z",
          "iopub.status.busy": "2024-10-08T13:19:24.525736Z",
          "iopub.status.idle": "2024-10-08T13:19:24.980186Z",
          "shell.execute_reply": "2024-10-08T13:19:24.978859Z",
          "shell.execute_reply.started": "2024-10-08T13:19:24.526611Z"
        },
        "trusted": true,
        "id": "nGBbMCP1ij9v"
      },
      "outputs": [],
      "source": [
        "import numpy as np\n",
        "import pandas as pd"
      ]
    },
    {
      "cell_type": "code",
      "execution_count": null,
      "metadata": {
        "execution": {
          "iopub.execute_input": "2024-10-08T13:23:35.805204Z",
          "iopub.status.busy": "2024-10-08T13:23:35.804240Z",
          "iopub.status.idle": "2024-10-08T13:23:36.108554Z",
          "shell.execute_reply": "2024-10-08T13:23:36.107433Z",
          "shell.execute_reply.started": "2024-10-08T13:23:35.805164Z"
        },
        "trusted": true,
        "id": "p-8ZLQyZij9w"
      },
      "outputs": [],
      "source": [
        "train = pd.read_csv(\"./train_normalized.csv\")\n",
        "test = pd.read_csv(\"./test_normalized.csv\")"
      ]
    },
    {
      "cell_type": "code",
      "execution_count": null,
      "metadata": {
        "execution": {
          "iopub.execute_input": "2024-10-08T13:24:54.835051Z",
          "iopub.status.busy": "2024-10-08T13:24:54.834532Z",
          "iopub.status.idle": "2024-10-08T13:24:54.843418Z",
          "shell.execute_reply": "2024-10-08T13:24:54.841534Z",
          "shell.execute_reply.started": "2024-10-08T13:24:54.835015Z"
        },
        "trusted": true,
        "id": "r6j3jkd7ij9w"
      },
      "outputs": [],
      "source": [
        "y_train = train['label']\n",
        "y_test = test['label']"
      ]
    },
    {
      "cell_type": "markdown",
      "metadata": {
        "id": "mTq6u305ij9w"
      },
      "source": [
        "## FEATURE SELECTION"
      ]
    },
    {
      "cell_type": "code",
      "execution_count": null,
      "metadata": {
        "execution": {
          "iopub.execute_input": "2024-10-08T13:26:25.167447Z",
          "iopub.status.busy": "2024-10-08T13:26:25.167014Z",
          "iopub.status.idle": "2024-10-08T13:26:25.174022Z",
          "shell.execute_reply": "2024-10-08T13:26:25.172145Z",
          "shell.execute_reply.started": "2024-10-08T13:26:25.167410Z"
        },
        "trusted": true,
        "id": "MsxEPw8mij9w"
      },
      "outputs": [],
      "source": [
        "selected_features = [\"proto\", \"orig_bytes\", \"conn_state\", \"resp_pkts\", \"resp_ip_bytes\"]\n",
        "num_features = len(selected_features)"
      ]
    },
    {
      "cell_type": "code",
      "execution_count": null,
      "metadata": {
        "execution": {
          "iopub.execute_input": "2024-10-08T13:25:06.033898Z",
          "iopub.status.busy": "2024-10-08T13:25:06.033514Z",
          "iopub.status.idle": "2024-10-08T13:25:06.042418Z",
          "shell.execute_reply": "2024-10-08T13:25:06.041062Z",
          "shell.execute_reply.started": "2024-10-08T13:25:06.033868Z"
        },
        "trusted": true,
        "id": "pIvW8xDrij9x"
      },
      "outputs": [],
      "source": [
        "train = train[selected_features]\n",
        "test = test[selected_features]"
      ]
    },
    {
      "cell_type": "code",
      "execution_count": null,
      "metadata": {
        "execution": {
          "iopub.execute_input": "2024-10-08T13:26:01.123850Z",
          "iopub.status.busy": "2024-10-08T13:26:01.123457Z",
          "iopub.status.idle": "2024-10-08T13:26:01.141361Z",
          "shell.execute_reply": "2024-10-08T13:26:01.140125Z",
          "shell.execute_reply.started": "2024-10-08T13:26:01.123817Z"
        },
        "trusted": true,
        "colab": {
          "base_uri": "https://localhost:8080/",
          "height": 206
        },
        "id": "hD_lTkTyij9x",
        "outputId": "8bf1c0e0-4299-4419-f193-7ce971280532"
      },
      "outputs": [
        {
          "output_type": "execute_result",
          "data": {
            "text/plain": [
              "   proto    orig_bytes  conn_state  resp_pkts  resp_ip_bytes\n",
              "0    0.5  0.000000e+00    0.000000   0.000000   0.000000e+00\n",
              "1    0.5  0.000000e+00    0.000000   0.000000   0.000000e+00\n",
              "2    0.5  0.000000e+00    0.000000   0.000000   0.000000e+00\n",
              "3    0.5  0.000000e+00    0.000000   0.000000   0.000000e+00\n",
              "4    0.5  2.382635e-07    0.833333   0.000017   6.178160e-07"
            ],
            "text/html": [
              "\n",
              "  <div id=\"df-6d02367d-4734-4ed7-931f-342e3cce6a4a\" class=\"colab-df-container\">\n",
              "    <div>\n",
              "<style scoped>\n",
              "    .dataframe tbody tr th:only-of-type {\n",
              "        vertical-align: middle;\n",
              "    }\n",
              "\n",
              "    .dataframe tbody tr th {\n",
              "        vertical-align: top;\n",
              "    }\n",
              "\n",
              "    .dataframe thead th {\n",
              "        text-align: right;\n",
              "    }\n",
              "</style>\n",
              "<table border=\"1\" class=\"dataframe\">\n",
              "  <thead>\n",
              "    <tr style=\"text-align: right;\">\n",
              "      <th></th>\n",
              "      <th>proto</th>\n",
              "      <th>orig_bytes</th>\n",
              "      <th>conn_state</th>\n",
              "      <th>resp_pkts</th>\n",
              "      <th>resp_ip_bytes</th>\n",
              "    </tr>\n",
              "  </thead>\n",
              "  <tbody>\n",
              "    <tr>\n",
              "      <th>0</th>\n",
              "      <td>0.5</td>\n",
              "      <td>0.000000e+00</td>\n",
              "      <td>0.000000</td>\n",
              "      <td>0.000000</td>\n",
              "      <td>0.000000e+00</td>\n",
              "    </tr>\n",
              "    <tr>\n",
              "      <th>1</th>\n",
              "      <td>0.5</td>\n",
              "      <td>0.000000e+00</td>\n",
              "      <td>0.000000</td>\n",
              "      <td>0.000000</td>\n",
              "      <td>0.000000e+00</td>\n",
              "    </tr>\n",
              "    <tr>\n",
              "      <th>2</th>\n",
              "      <td>0.5</td>\n",
              "      <td>0.000000e+00</td>\n",
              "      <td>0.000000</td>\n",
              "      <td>0.000000</td>\n",
              "      <td>0.000000e+00</td>\n",
              "    </tr>\n",
              "    <tr>\n",
              "      <th>3</th>\n",
              "      <td>0.5</td>\n",
              "      <td>0.000000e+00</td>\n",
              "      <td>0.000000</td>\n",
              "      <td>0.000000</td>\n",
              "      <td>0.000000e+00</td>\n",
              "    </tr>\n",
              "    <tr>\n",
              "      <th>4</th>\n",
              "      <td>0.5</td>\n",
              "      <td>2.382635e-07</td>\n",
              "      <td>0.833333</td>\n",
              "      <td>0.000017</td>\n",
              "      <td>6.178160e-07</td>\n",
              "    </tr>\n",
              "  </tbody>\n",
              "</table>\n",
              "</div>\n",
              "    <div class=\"colab-df-buttons\">\n",
              "\n",
              "  <div class=\"colab-df-container\">\n",
              "    <button class=\"colab-df-convert\" onclick=\"convertToInteractive('df-6d02367d-4734-4ed7-931f-342e3cce6a4a')\"\n",
              "            title=\"Convert this dataframe to an interactive table.\"\n",
              "            style=\"display:none;\">\n",
              "\n",
              "  <svg xmlns=\"http://www.w3.org/2000/svg\" height=\"24px\" viewBox=\"0 -960 960 960\">\n",
              "    <path d=\"M120-120v-720h720v720H120Zm60-500h600v-160H180v160Zm220 220h160v-160H400v160Zm0 220h160v-160H400v160ZM180-400h160v-160H180v160Zm440 0h160v-160H620v160ZM180-180h160v-160H180v160Zm440 0h160v-160H620v160Z\"/>\n",
              "  </svg>\n",
              "    </button>\n",
              "\n",
              "  <style>\n",
              "    .colab-df-container {\n",
              "      display:flex;\n",
              "      gap: 12px;\n",
              "    }\n",
              "\n",
              "    .colab-df-convert {\n",
              "      background-color: #E8F0FE;\n",
              "      border: none;\n",
              "      border-radius: 50%;\n",
              "      cursor: pointer;\n",
              "      display: none;\n",
              "      fill: #1967D2;\n",
              "      height: 32px;\n",
              "      padding: 0 0 0 0;\n",
              "      width: 32px;\n",
              "    }\n",
              "\n",
              "    .colab-df-convert:hover {\n",
              "      background-color: #E2EBFA;\n",
              "      box-shadow: 0px 1px 2px rgba(60, 64, 67, 0.3), 0px 1px 3px 1px rgba(60, 64, 67, 0.15);\n",
              "      fill: #174EA6;\n",
              "    }\n",
              "\n",
              "    .colab-df-buttons div {\n",
              "      margin-bottom: 4px;\n",
              "    }\n",
              "\n",
              "    [theme=dark] .colab-df-convert {\n",
              "      background-color: #3B4455;\n",
              "      fill: #D2E3FC;\n",
              "    }\n",
              "\n",
              "    [theme=dark] .colab-df-convert:hover {\n",
              "      background-color: #434B5C;\n",
              "      box-shadow: 0px 1px 3px 1px rgba(0, 0, 0, 0.15);\n",
              "      filter: drop-shadow(0px 1px 2px rgba(0, 0, 0, 0.3));\n",
              "      fill: #FFFFFF;\n",
              "    }\n",
              "  </style>\n",
              "\n",
              "    <script>\n",
              "      const buttonEl =\n",
              "        document.querySelector('#df-6d02367d-4734-4ed7-931f-342e3cce6a4a button.colab-df-convert');\n",
              "      buttonEl.style.display =\n",
              "        google.colab.kernel.accessAllowed ? 'block' : 'none';\n",
              "\n",
              "      async function convertToInteractive(key) {\n",
              "        const element = document.querySelector('#df-6d02367d-4734-4ed7-931f-342e3cce6a4a');\n",
              "        const dataTable =\n",
              "          await google.colab.kernel.invokeFunction('convertToInteractive',\n",
              "                                                    [key], {});\n",
              "        if (!dataTable) return;\n",
              "\n",
              "        const docLinkHtml = 'Like what you see? Visit the ' +\n",
              "          '<a target=\"_blank\" href=https://colab.research.google.com/notebooks/data_table.ipynb>data table notebook</a>'\n",
              "          + ' to learn more about interactive tables.';\n",
              "        element.innerHTML = '';\n",
              "        dataTable['output_type'] = 'display_data';\n",
              "        await google.colab.output.renderOutput(dataTable, element);\n",
              "        const docLink = document.createElement('div');\n",
              "        docLink.innerHTML = docLinkHtml;\n",
              "        element.appendChild(docLink);\n",
              "      }\n",
              "    </script>\n",
              "  </div>\n",
              "\n",
              "\n",
              "<div id=\"df-d57474e6-4f65-424f-ae7e-aee9c009a099\">\n",
              "  <button class=\"colab-df-quickchart\" onclick=\"quickchart('df-d57474e6-4f65-424f-ae7e-aee9c009a099')\"\n",
              "            title=\"Suggest charts\"\n",
              "            style=\"display:none;\">\n",
              "\n",
              "<svg xmlns=\"http://www.w3.org/2000/svg\" height=\"24px\"viewBox=\"0 0 24 24\"\n",
              "     width=\"24px\">\n",
              "    <g>\n",
              "        <path d=\"M19 3H5c-1.1 0-2 .9-2 2v14c0 1.1.9 2 2 2h14c1.1 0 2-.9 2-2V5c0-1.1-.9-2-2-2zM9 17H7v-7h2v7zm4 0h-2V7h2v10zm4 0h-2v-4h2v4z\"/>\n",
              "    </g>\n",
              "</svg>\n",
              "  </button>\n",
              "\n",
              "<style>\n",
              "  .colab-df-quickchart {\n",
              "      --bg-color: #E8F0FE;\n",
              "      --fill-color: #1967D2;\n",
              "      --hover-bg-color: #E2EBFA;\n",
              "      --hover-fill-color: #174EA6;\n",
              "      --disabled-fill-color: #AAA;\n",
              "      --disabled-bg-color: #DDD;\n",
              "  }\n",
              "\n",
              "  [theme=dark] .colab-df-quickchart {\n",
              "      --bg-color: #3B4455;\n",
              "      --fill-color: #D2E3FC;\n",
              "      --hover-bg-color: #434B5C;\n",
              "      --hover-fill-color: #FFFFFF;\n",
              "      --disabled-bg-color: #3B4455;\n",
              "      --disabled-fill-color: #666;\n",
              "  }\n",
              "\n",
              "  .colab-df-quickchart {\n",
              "    background-color: var(--bg-color);\n",
              "    border: none;\n",
              "    border-radius: 50%;\n",
              "    cursor: pointer;\n",
              "    display: none;\n",
              "    fill: var(--fill-color);\n",
              "    height: 32px;\n",
              "    padding: 0;\n",
              "    width: 32px;\n",
              "  }\n",
              "\n",
              "  .colab-df-quickchart:hover {\n",
              "    background-color: var(--hover-bg-color);\n",
              "    box-shadow: 0 1px 2px rgba(60, 64, 67, 0.3), 0 1px 3px 1px rgba(60, 64, 67, 0.15);\n",
              "    fill: var(--button-hover-fill-color);\n",
              "  }\n",
              "\n",
              "  .colab-df-quickchart-complete:disabled,\n",
              "  .colab-df-quickchart-complete:disabled:hover {\n",
              "    background-color: var(--disabled-bg-color);\n",
              "    fill: var(--disabled-fill-color);\n",
              "    box-shadow: none;\n",
              "  }\n",
              "\n",
              "  .colab-df-spinner {\n",
              "    border: 2px solid var(--fill-color);\n",
              "    border-color: transparent;\n",
              "    border-bottom-color: var(--fill-color);\n",
              "    animation:\n",
              "      spin 1s steps(1) infinite;\n",
              "  }\n",
              "\n",
              "  @keyframes spin {\n",
              "    0% {\n",
              "      border-color: transparent;\n",
              "      border-bottom-color: var(--fill-color);\n",
              "      border-left-color: var(--fill-color);\n",
              "    }\n",
              "    20% {\n",
              "      border-color: transparent;\n",
              "      border-left-color: var(--fill-color);\n",
              "      border-top-color: var(--fill-color);\n",
              "    }\n",
              "    30% {\n",
              "      border-color: transparent;\n",
              "      border-left-color: var(--fill-color);\n",
              "      border-top-color: var(--fill-color);\n",
              "      border-right-color: var(--fill-color);\n",
              "    }\n",
              "    40% {\n",
              "      border-color: transparent;\n",
              "      border-right-color: var(--fill-color);\n",
              "      border-top-color: var(--fill-color);\n",
              "    }\n",
              "    60% {\n",
              "      border-color: transparent;\n",
              "      border-right-color: var(--fill-color);\n",
              "    }\n",
              "    80% {\n",
              "      border-color: transparent;\n",
              "      border-right-color: var(--fill-color);\n",
              "      border-bottom-color: var(--fill-color);\n",
              "    }\n",
              "    90% {\n",
              "      border-color: transparent;\n",
              "      border-bottom-color: var(--fill-color);\n",
              "    }\n",
              "  }\n",
              "</style>\n",
              "\n",
              "  <script>\n",
              "    async function quickchart(key) {\n",
              "      const quickchartButtonEl =\n",
              "        document.querySelector('#' + key + ' button');\n",
              "      quickchartButtonEl.disabled = true;  // To prevent multiple clicks.\n",
              "      quickchartButtonEl.classList.add('colab-df-spinner');\n",
              "      try {\n",
              "        const charts = await google.colab.kernel.invokeFunction(\n",
              "            'suggestCharts', [key], {});\n",
              "      } catch (error) {\n",
              "        console.error('Error during call to suggestCharts:', error);\n",
              "      }\n",
              "      quickchartButtonEl.classList.remove('colab-df-spinner');\n",
              "      quickchartButtonEl.classList.add('colab-df-quickchart-complete');\n",
              "    }\n",
              "    (() => {\n",
              "      let quickchartButtonEl =\n",
              "        document.querySelector('#df-d57474e6-4f65-424f-ae7e-aee9c009a099 button');\n",
              "      quickchartButtonEl.style.display =\n",
              "        google.colab.kernel.accessAllowed ? 'block' : 'none';\n",
              "    })();\n",
              "  </script>\n",
              "</div>\n",
              "\n",
              "    </div>\n",
              "  </div>\n"
            ],
            "application/vnd.google.colaboratory.intrinsic+json": {
              "type": "dataframe",
              "variable_name": "train",
              "summary": "{\n  \"name\": \"train\",\n  \"rows\": 21429,\n  \"fields\": [\n    {\n      \"column\": \"proto\",\n      \"properties\": {\n        \"dtype\": \"number\",\n        \"std\": 0.22616732917966004,\n        \"min\": 0.0,\n        \"max\": 1.0,\n        \"num_unique_values\": 3,\n        \"samples\": [\n          0.5,\n          1.0,\n          0.0\n        ],\n        \"semantic_type\": \"\",\n        \"description\": \"\"\n      }\n    },\n    {\n      \"column\": \"orig_bytes\",\n      \"properties\": {\n        \"dtype\": \"number\",\n        \"std\": 0.0068315134148487664,\n        \"min\": 0.0,\n        \"max\": 1.0,\n        \"num_unique_values\": 158,\n        \"samples\": [\n          5.559480725439166e-07,\n          4.7652691932335714e-07,\n          5.78847838389178e-05\n        ],\n        \"semantic_type\": \"\",\n        \"description\": \"\"\n      }\n    },\n    {\n      \"column\": \"conn_state\",\n      \"properties\": {\n        \"dtype\": \"number\",\n        \"std\": 0.2699386344885306,\n        \"min\": 0.0,\n        \"max\": 1.0,\n        \"num_unique_values\": 11,\n        \"samples\": [\n          0.0833333333333333,\n          0.0,\n          0.1666666666666666\n        ],\n        \"semantic_type\": \"\",\n        \"description\": \"\"\n      }\n    },\n    {\n      \"column\": \"resp_pkts\",\n      \"properties\": {\n        \"dtype\": \"number\",\n        \"std\": 0.006837285466993421,\n        \"min\": 0.0,\n        \"max\": 1.0,\n        \"num_unique_values\": 39,\n        \"samples\": [\n          0.0363239297823654,\n          1.0,\n          2.505386581149472e-05\n        ],\n        \"semantic_type\": \"\",\n        \"description\": \"\"\n      }\n    },\n    {\n      \"column\": \"resp_ip_bytes\",\n      \"properties\": {\n        \"dtype\": \"number\",\n        \"std\": 0.006831397842465649,\n        \"min\": 0.0,\n        \"max\": 1.0,\n        \"num_unique_values\": 233,\n        \"samples\": [\n          6.970451369962416e-06,\n          0.0002426186159235,\n          6.901805152121177e-06\n        ],\n        \"semantic_type\": \"\",\n        \"description\": \"\"\n      }\n    }\n  ]\n}"
            }
          },
          "metadata": {},
          "execution_count": 8
        }
      ],
      "source": [
        "train.head(5)"
      ]
    },
    {
      "cell_type": "markdown",
      "metadata": {
        "id": "3WOrQp4Eij9x"
      },
      "source": [
        "Definir o Label para treinamento (característica que se quer prever)"
      ]
    },
    {
      "cell_type": "markdown",
      "metadata": {
        "id": "6cArqys8ij9y"
      },
      "source": [
        "## FEATURE MAP\n",
        "\n",
        "ZZFeatureMap, ZFeatureMap, PauliFeatureMap (rodar com diferentes feature maps)\n",
        "\n",
        "https://docs.quantum.ibm.com/api/qiskit/0.19/qiskit.circuit.library.PauliFeatureMap\n",
        "\n",
        "#### ZZFeatureMap\n",
        "https://docs.quantum.ibm.com/api/qiskit/qiskit.circuit.library.ZZFeatureMap\n",
        "\n",
        "Nº de features = tamanho do vetor de features\n",
        "\n",
        "FeatureMap = ZZFeatureMap com dimensões nº de features e 1 repetição\n",
        "\n",
        "Decompose e draw FeatureMap, output \"mpl\", fold = 40"
      ]
    },
    {
      "cell_type": "code",
      "execution_count": null,
      "metadata": {
        "execution": {
          "iopub.execute_input": "2024-10-08T13:27:38.126521Z",
          "iopub.status.busy": "2024-10-08T13:27:38.126074Z",
          "iopub.status.idle": "2024-10-08T13:27:38.953195Z",
          "shell.execute_reply": "2024-10-08T13:27:38.951644Z",
          "shell.execute_reply.started": "2024-10-08T13:27:38.126486Z"
        },
        "trusted": true,
        "id": "_xQg-NY1ij9y"
      },
      "outputs": [],
      "source": [
        "from qiskit.circuit.library import ZZFeatureMap\n",
        "\n",
        "feature_map = ZZFeatureMap(num_features, reps = 1)"
      ]
    },
    {
      "cell_type": "code",
      "execution_count": null,
      "metadata": {
        "execution": {
          "iopub.execute_input": "2024-10-08T13:29:19.611216Z",
          "iopub.status.busy": "2024-10-08T13:29:19.610803Z",
          "iopub.status.idle": "2024-10-08T13:29:20.443935Z",
          "shell.execute_reply": "2024-10-08T13:29:20.442805Z",
          "shell.execute_reply.started": "2024-10-08T13:29:19.611186Z"
        },
        "trusted": true,
        "id": "Gf416If2ij9y",
        "outputId": "10150992-6ce6-4f80-b907-7b38e7f55de7"
      },
      "outputs": [
        {
          "data": {
            "image/png": "[encoded data removed]",
            "text/plain": [
              "<Figure size 2210.55x953.167 with 1 Axes>"
            ]
          },
          "execution_count": 10,
          "metadata": {},
          "output_type": "execute_result"
        }
      ],
      "source": [
        "feature_map.decompose().draw(output = \"mpl\", fold = 25)"
      ]
    },
    {
      "cell_type": "markdown",
      "metadata": {
        "id": "kgs014iAij9y"
      },
      "source": [
        "## Ansatz\n",
        "\n",
        "#### TwoLocal\n",
        "https://docs.quantum.ibm.com/api/qiskit/qiskit.circuit.library.TwoLocal -> ENTENDER MELHOR\n",
        "\n",
        "TwoLocal.__Subclasses__() -> Ansatz = RealAmplitudes com nº de qubits = nº de features e 2 repetições\n",
        "\n",
        "Decompose e draw Ansatz, output \"mpl\", fold = 20"
      ]
    },
    {
      "cell_type": "code",
      "execution_count": null,
      "metadata": {
        "execution": {
          "iopub.execute_input": "2024-10-08T13:28:39.469001Z",
          "iopub.status.busy": "2024-10-08T13:28:39.468414Z",
          "iopub.status.idle": "2024-10-08T13:28:39.478665Z",
          "shell.execute_reply": "2024-10-08T13:28:39.477448Z",
          "shell.execute_reply.started": "2024-10-08T13:28:39.468960Z"
        },
        "trusted": true,
        "id": "spb9JdTNij9y"
      },
      "outputs": [],
      "source": [
        "from qiskit.circuit.library import RealAmplitudes\n",
        "ansatz = RealAmplitudes(num_features, reps = 2)"
      ]
    },
    {
      "cell_type": "code",
      "execution_count": null,
      "metadata": {
        "execution": {
          "iopub.execute_input": "2024-10-08T13:28:44.359263Z",
          "iopub.status.busy": "2024-10-08T13:28:44.358804Z",
          "iopub.status.idle": "2024-10-08T13:28:45.014456Z",
          "shell.execute_reply": "2024-10-08T13:28:45.012946Z",
          "shell.execute_reply.started": "2024-10-08T13:28:44.359227Z"
        },
        "trusted": true,
        "id": "7jWH3sqvij9z",
        "outputId": "251f2757-713e-4562-f519-ecd1e597c575"
      },
      "outputs": [
        {
          "data": {
            "image/png": "[encoded data removed]",
            "text/plain": [
              "<Figure size 872.774x451.5 with 1 Axes>"
            ]
          },
          "execution_count": 12,
          "metadata": {},
          "output_type": "execute_result"
        }
      ],
      "source": [
        "ansatz.decompose().draw(output = \"mpl\", fold = 40)"
      ]
    },
    {
      "cell_type": "markdown",
      "metadata": {
        "id": "kXnhHqleij9z"
      },
      "source": [
        "## OTIMIZADOR\n",
        "\n",
        "#### COBYLA\n",
        "Importar o COBYLA do próprio Qiskit, da biblioteca de otimizadores -> https://docs.quantum.ibm.com/api/qiskit/0.28/qiskit.algorithms.optimizers.COBYLA\n",
        "\n",
        "https://qiskit-community.github.io/qiskit-machine-learning/tutorials/10_effective_dimension.html\n",
        "\n",
        "COBYLA(maxiter=100)"
      ]
    },
    {
      "cell_type": "code",
      "execution_count": null,
      "metadata": {
        "execution": {
          "iopub.execute_input": "2024-10-08T13:33:33.309186Z",
          "iopub.status.busy": "2024-10-08T13:33:33.308786Z",
          "iopub.status.idle": "2024-10-08T13:33:33.830432Z",
          "shell.execute_reply": "2024-10-08T13:33:33.828702Z",
          "shell.execute_reply.started": "2024-10-08T13:33:33.309151Z"
        },
        "trusted": true,
        "id": "IN7BYeuUij9z"
      },
      "outputs": [],
      "source": [
        "from qiskit_algorithms.optimizers import COBYLA\n",
        "optimizer = COBYLA(maxiter=100)"
      ]
    },
    {
      "cell_type": "markdown",
      "metadata": {
        "id": "UBxNL5JAij9z"
      },
      "source": [
        "#### DARBO\n",
        "Pesquisar como importar\n",
        "\n",
        "https://github.com/sherrylixuecheng/EMQAOA-DARBO"
      ]
    },
    {
      "cell_type": "markdown",
      "metadata": {
        "id": "yoHNa1EPij9z"
      },
      "source": [
        "## SAMPLER\n",
        "Erro no VQC, checar motivo\n",
        "\n",
        "Importar Sampler, shots=512 -> https://docs.quantum.ibm.com/api/qiskit/qiskit.primitives.StatevectorSampler"
      ]
    },
    {
      "cell_type": "code",
      "execution_count": null,
      "metadata": {
        "execution": {
          "iopub.execute_input": "2024-09-28T20:56:58.517922Z",
          "iopub.status.busy": "2024-09-28T20:56:58.517492Z",
          "iopub.status.idle": "2024-09-28T20:56:58.523839Z",
          "shell.execute_reply": "2024-09-28T20:56:58.522552Z",
          "shell.execute_reply.started": "2024-09-28T20:56:58.517890Z"
        },
        "trusted": true,
        "id": "Tf0q46ifij9z"
      },
      "outputs": [],
      "source": [
        "from qiskit.primitives import StatevectorSampler\n",
        "\n",
        "sampler = StatevectorSampler()"
      ]
    },
    {
      "cell_type": "markdown",
      "metadata": {
        "id": "RMsrIyiQij9z"
      },
      "source": [
        "## Callback Function\n",
        "Importar pyplot para plotar gráfico da função custo pelas iterações - callback_graph"
      ]
    },
    {
      "cell_type": "code",
      "execution_count": null,
      "metadata": {
        "execution": {
          "iopub.execute_input": "2024-10-08T13:34:01.124189Z",
          "iopub.status.busy": "2024-10-08T13:34:01.123761Z",
          "iopub.status.idle": "2024-10-08T13:34:01.131635Z",
          "shell.execute_reply": "2024-10-08T13:34:01.130408Z",
          "shell.execute_reply.started": "2024-10-08T13:34:01.124157Z"
        },
        "trusted": true,
        "id": "6ubvYWgfij90"
      },
      "outputs": [],
      "source": [
        "from matplotlib import pyplot as plt\n",
        "from IPython.display import clear_output\n",
        "\n",
        "objective_func_vals = []\n",
        "plt.rcParams[\"figure.figsize\"]= (12,6)\n",
        "\n",
        "def callback_graph(weight, obj_func_eval):\n",
        "    clear_output(wait=True)\n",
        "    objective_func_vals.append(obj_func_eval)\n",
        "    plt.title(\"Função de Custo\")\n",
        "    plt.xlabel(\"Iterações\")\n",
        "    plt.ylabel(\"Função de Custo\")\n",
        "    plt.plot(range(len(objective_func_vals)), objective_func_vals)\n",
        "    plt.show()"
      ]
    },
    {
      "cell_type": "markdown",
      "metadata": {
        "id": "xKMPM8vsij90"
      },
      "source": [
        "\n",
        "## VQC\n",
        "Importar classificador VQC do Qiskit -> https://github.com/qiskit-community/qiskit-machine-learning // https://qiskit-community.github.io/qiskit-machine-learning/getting_started.html#installation\n",
        "\n",
        "VQC { sampler = sampler; feature_map = feature_map, ansatz = ansatz; optimizer = optimizer; callback = callback_graph }\n",
        "\n",
        "Importar time para visualizar o tempo de execução\n",
        "\n",
        "VQC.fit(train_features, train_labels.values)"
      ]
    },
    {
      "cell_type": "code",
      "execution_count": null,
      "metadata": {
        "execution": {
          "iopub.execute_input": "2024-10-08T13:34:48.859736Z",
          "iopub.status.busy": "2024-10-08T13:34:48.858755Z"
        },
        "trusted": true,
        "id": "O4-ugAQ3ij90"
      },
      "outputs": [],
      "source": [
        "import time\n",
        "from qiskit_machine_learning.algorithms.classifiers import VQC\n",
        "from qiskit_aer import AerSimulator\n",
        "from qiskit.transpiler.preset_passmanagers import generate_preset_pass_manager\n",
        "\n",
        "sim = AerSimulator(method='statevector', device='GPU')\n",
        "\n",
        "\n",
        "vqc = VQC(\n",
        "    #sampler=sampler,\n",
        "    feature_map=feature_map,\n",
        "    ansatz=ansatz,\n",
        "    optimizer=optimizer,\n",
        "    callback=callback_graph,\n",
        "    pass_manager=generate_preset_pass_manager(backend=sim)\n",
        ")\n",
        "\n",
        "objective_func_vals= []\n",
        "start = time.time()\n",
        "vqc.fit(train, y_train.values)\n",
        "elapsed = time.time() - start\n",
        "\n",
        "vqc.save(\"vqc\")\n",
        "\n",
        "print(f\"Training time: {round(elapsed)} seconds\")"
      ]
    },
    {
      "cell_type": "code",
      "execution_count": null,
      "metadata": {
        "id": "LB1qP2vdij90"
      },
      "outputs": [],
      "source": [
        "train_acc = vqc.score(train, y_train)\n",
        "print(f'Acuracia: {round(train_acc,2)*100}%')"
      ]
    },
    {
      "cell_type": "markdown",
      "metadata": {
        "id": "Eb7MTcDEij90"
      },
      "source": [
        "Rodar com o teste -> VQC.predict(test);\n",
        "\n",
        "Realizar avaliação dos resultados (acurácia, precisão, recall...)"
      ]
    },
    {
      "cell_type": "code",
      "source": [
        "y_predicted = vqc.predict(test)\n",
        "\n",
        "y_predicted"
      ],
      "metadata": {
        "id": "fqMuFPj8mIuA"
      },
      "execution_count": null,
      "outputs": []
    },
    {
      "cell_type": "code",
      "source": [
        "import sklearn.metrics as metrics\n",
        "print(metrics.classification_report(y_test, y_predicted))"
      ],
      "metadata": {
        "id": "GVR6yIltmB_u"
      },
      "execution_count": null,
      "outputs": []
    },
    {
      "cell_type": "code",
      "source": [
        "confusion_matrix = metrics.confusion_matrix(y_test, y_predicted)\n",
        "print(confusion_matrix)"
      ],
      "metadata": {
        "id": "2mnItdb9mvTW"
      },
      "execution_count": null,
      "outputs": []
    },
    {
      "cell_type": "code",
      "execution_count": null,
      "metadata": {
        "id": "lsPoHzqgij91",
        "outputId": "6b930868-2a30-40f4-d7fd-df2c0790c32d"
      },
      "outputs": [
        {
          "ename": "NameError",
          "evalue": "name 'vqc' is not defined",
          "output_type": "error",
          "traceback": [
            "\u001b[1;31m---------------------------------------------------------------------------\u001b[0m",
            "\u001b[1;31mNameError\u001b[0m                                 Traceback (most recent call last)",
            "Cell \u001b[1;32mIn[20], line 1\u001b[0m\n\u001b[1;32m----> 1\u001b[0m y \u001b[38;5;241m=\u001b[39m \u001b[43mvqc\u001b[49m\u001b[38;5;241m.\u001b[39mpredict(y_test) \u001b[38;5;66;03m# predictions vector\u001b[39;00m\n",
            "\u001b[1;31mNameError\u001b[0m: name 'vqc' is not defined"
          ]
        }
      ],
      "source": [
        "from pandas import DataFrame\n",
        "\n",
        "from google.colab import drive\n",
        "drive.mount('/content/gdrive')\n",
        "\n",
        "df = DataFrame(y_predicted)\n",
        "df.to_csv('/content/gdrive/y_predicted.csv', index=False)"
      ]
    }
  ],
  "metadata": {
    "kaggle": {
      "accelerator": "none",
      "dataSources": [
        {
          "datasetId": 4511772,
          "sourceId": 8085987,
          "sourceType": "datasetVersion"
        },
        {
          "datasetId": 5661215,
          "sourceId": 9341409,
          "sourceType": "datasetVersion"
        }
      ],
      "dockerImageVersionId": 30664,
      "isGpuEnabled": false,
      "isInternetEnabled": true,
      "language": "python",
      "sourceType": "notebook"
    },
    "kernelspec": {
      "display_name": "Python 3",
      "name": "python3"
    },
    "language_info": {
      "codemirror_mode": {
        "name": "ipython",
        "version": 3
      },
      "file_extension": ".py",
      "mimetype": "text/x-python",
      "name": "python",
      "nbconvert_exporter": "python",
      "pygments_lexer": "ipython3",
      "version": "3.13.0"
    },
    "colab": {
      "provenance": [],
      "machine_shape": "hm",
      "gpuType": "L4"
    },
    "accelerator": "GPU"
  },
  "nbformat": 4,
  "nbformat_minor": 0
}