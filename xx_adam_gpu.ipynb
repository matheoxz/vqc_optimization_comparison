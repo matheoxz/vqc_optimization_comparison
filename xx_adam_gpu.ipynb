{
  "cells": [
    {
      "cell_type": "code",
      "execution_count": 1,
      "metadata": {},
      "outputs": [],
      "source": [
        "train_name = \"vqc_adam_xx\" "
      ]
    },
    {
      "cell_type": "markdown",
      "metadata": {
        "id": "lAdXiFosij9u"
      },
      "source": [
        "Separar datasets de treinamento e teste, separar as features que serão utilizadas.\n",
        "Preencher nan com a média de valores da coluna.  // Testar também normalização [0;pi]"
      ]
    },
    {
      "cell_type": "code",
      "execution_count": 2,
      "metadata": {
        "execution": {
          "iopub.execute_input": "2024-10-08T13:19:24.526660Z",
          "iopub.status.busy": "2024-10-08T13:19:24.525736Z",
          "iopub.status.idle": "2024-10-08T13:19:24.980186Z",
          "shell.execute_reply": "2024-10-08T13:19:24.978859Z",
          "shell.execute_reply.started": "2024-10-08T13:19:24.526611Z"
        },
        "id": "nGBbMCP1ij9v",
        "trusted": true
      },
      "outputs": [],
      "source": [
        "import numpy as np\n",
        "import pandas as pd"
      ]
    },
    {
      "cell_type": "code",
      "execution_count": 3,
      "metadata": {
        "execution": {
          "iopub.execute_input": "2024-10-08T13:23:35.805204Z",
          "iopub.status.busy": "2024-10-08T13:23:35.804240Z",
          "iopub.status.idle": "2024-10-08T13:23:36.108554Z",
          "shell.execute_reply": "2024-10-08T13:23:36.107433Z",
          "shell.execute_reply.started": "2024-10-08T13:23:35.805164Z"
        },
        "id": "p-8ZLQyZij9w",
        "trusted": true
      },
      "outputs": [],
      "source": [
        "train = pd.read_csv(\"../dataset/train_normalized.csv\")\n",
        "test = pd.read_csv(\"../dataset/test_normalized.csv\")"
      ]
    },
    {
      "cell_type": "code",
      "execution_count": 4,
      "metadata": {
        "execution": {
          "iopub.execute_input": "2024-10-08T13:24:54.835051Z",
          "iopub.status.busy": "2024-10-08T13:24:54.834532Z",
          "iopub.status.idle": "2024-10-08T13:24:54.843418Z",
          "shell.execute_reply": "2024-10-08T13:24:54.841534Z",
          "shell.execute_reply.started": "2024-10-08T13:24:54.835015Z"
        },
        "id": "r6j3jkd7ij9w",
        "trusted": true
      },
      "outputs": [],
      "source": [
        "y_train = train['label']\n",
        "y_test = test['label']"
      ]
    },
    {
      "cell_type": "markdown",
      "metadata": {
        "id": "mTq6u305ij9w"
      },
      "source": [
        "## FEATURE SELECTION"
      ]
    },
    {
      "cell_type": "code",
      "execution_count": 5,
      "metadata": {
        "execution": {
          "iopub.execute_input": "2024-10-08T13:26:25.167447Z",
          "iopub.status.busy": "2024-10-08T13:26:25.167014Z",
          "iopub.status.idle": "2024-10-08T13:26:25.174022Z",
          "shell.execute_reply": "2024-10-08T13:26:25.172145Z",
          "shell.execute_reply.started": "2024-10-08T13:26:25.167410Z"
        },
        "id": "MsxEPw8mij9w",
        "trusted": true
      },
      "outputs": [],
      "source": [
        "selected_features = [\"proto\", \"orig_bytes\", \"conn_state\", \"resp_pkts\", \"resp_ip_bytes\"]\n",
        "num_features = len(selected_features)"
      ]
    },
    {
      "cell_type": "code",
      "execution_count": 6,
      "metadata": {
        "execution": {
          "iopub.execute_input": "2024-10-08T13:25:06.033898Z",
          "iopub.status.busy": "2024-10-08T13:25:06.033514Z",
          "iopub.status.idle": "2024-10-08T13:25:06.042418Z",
          "shell.execute_reply": "2024-10-08T13:25:06.041062Z",
          "shell.execute_reply.started": "2024-10-08T13:25:06.033868Z"
        },
        "id": "pIvW8xDrij9x",
        "trusted": true
      },
      "outputs": [],
      "source": [
        "train = train[selected_features]\n",
        "test = test[selected_features]"
      ]
    },
    {
      "cell_type": "code",
      "execution_count": 7,
      "metadata": {
        "colab": {
          "base_uri": "https://localhost:8080/",
          "height": 206
        },
        "execution": {
          "iopub.execute_input": "2024-10-08T13:26:01.123850Z",
          "iopub.status.busy": "2024-10-08T13:26:01.123457Z",
          "iopub.status.idle": "2024-10-08T13:26:01.141361Z",
          "shell.execute_reply": "2024-10-08T13:26:01.140125Z",
          "shell.execute_reply.started": "2024-10-08T13:26:01.123817Z"
        },
        "id": "hD_lTkTyij9x",
        "outputId": "8bf1c0e0-4299-4419-f193-7ce971280532",
        "trusted": true
      },
      "outputs": [
        {
          "data": {
            "text/html": [
              "<div>\n",
              "<style scoped>\n",
              "    .dataframe tbody tr th:only-of-type {\n",
              "        vertical-align: middle;\n",
              "    }\n",
              "\n",
              "    .dataframe tbody tr th {\n",
              "        vertical-align: top;\n",
              "    }\n",
              "\n",
              "    .dataframe thead th {\n",
              "        text-align: right;\n",
              "    }\n",
              "</style>\n",
              "<table border=\"1\" class=\"dataframe\">\n",
              "  <thead>\n",
              "    <tr style=\"text-align: right;\">\n",
              "      <th></th>\n",
              "      <th>proto</th>\n",
              "      <th>orig_bytes</th>\n",
              "      <th>conn_state</th>\n",
              "      <th>resp_pkts</th>\n",
              "      <th>resp_ip_bytes</th>\n",
              "    </tr>\n",
              "  </thead>\n",
              "  <tbody>\n",
              "    <tr>\n",
              "      <th>0</th>\n",
              "      <td>0.5</td>\n",
              "      <td>0.000000e+00</td>\n",
              "      <td>0.000000</td>\n",
              "      <td>0.000000</td>\n",
              "      <td>0.000000e+00</td>\n",
              "    </tr>\n",
              "    <tr>\n",
              "      <th>1</th>\n",
              "      <td>0.5</td>\n",
              "      <td>0.000000e+00</td>\n",
              "      <td>0.000000</td>\n",
              "      <td>0.000000</td>\n",
              "      <td>0.000000e+00</td>\n",
              "    </tr>\n",
              "    <tr>\n",
              "      <th>2</th>\n",
              "      <td>0.5</td>\n",
              "      <td>0.000000e+00</td>\n",
              "      <td>0.000000</td>\n",
              "      <td>0.000000</td>\n",
              "      <td>0.000000e+00</td>\n",
              "    </tr>\n",
              "    <tr>\n",
              "      <th>3</th>\n",
              "      <td>0.5</td>\n",
              "      <td>0.000000e+00</td>\n",
              "      <td>0.000000</td>\n",
              "      <td>0.000000</td>\n",
              "      <td>0.000000e+00</td>\n",
              "    </tr>\n",
              "    <tr>\n",
              "      <th>4</th>\n",
              "      <td>0.5</td>\n",
              "      <td>2.382635e-07</td>\n",
              "      <td>0.833333</td>\n",
              "      <td>0.000017</td>\n",
              "      <td>6.178160e-07</td>\n",
              "    </tr>\n",
              "  </tbody>\n",
              "</table>\n",
              "</div>"
            ],
            "text/plain": [
              "   proto    orig_bytes  conn_state  resp_pkts  resp_ip_bytes\n",
              "0    0.5  0.000000e+00    0.000000   0.000000   0.000000e+00\n",
              "1    0.5  0.000000e+00    0.000000   0.000000   0.000000e+00\n",
              "2    0.5  0.000000e+00    0.000000   0.000000   0.000000e+00\n",
              "3    0.5  0.000000e+00    0.000000   0.000000   0.000000e+00\n",
              "4    0.5  2.382635e-07    0.833333   0.000017   6.178160e-07"
            ]
          },
          "execution_count": 7,
          "metadata": {},
          "output_type": "execute_result"
        }
      ],
      "source": [
        "train.head(5)"
      ]
    },
    {
      "cell_type": "markdown",
      "metadata": {
        "id": "3WOrQp4Eij9x"
      },
      "source": [
        "Definir o Label para treinamento (característica que se quer prever)"
      ]
    },
    {
      "cell_type": "markdown",
      "metadata": {
        "id": "6cArqys8ij9y"
      },
      "source": [
        "## FEATURE MAP\n",
        "\n",
        "XXFeatureMap\n",
        "\n",
        "Nº de features = tamanho do vetor de features\n",
        "\n",
        "FeatureMap = XXFeatureMap com dimensões nº de features e 1 repetição\n",
        "\n",
        "Decompose e draw FeatureMap, output \"mpl\", fold = 40"
      ]
    },
    {
      "cell_type": "code",
      "execution_count": 15,
      "metadata": {
        "execution": {
          "iopub.execute_input": "2024-10-08T13:27:38.126521Z",
          "iopub.status.busy": "2024-10-08T13:27:38.126074Z",
          "iopub.status.idle": "2024-10-08T13:27:38.953195Z",
          "shell.execute_reply": "2024-10-08T13:27:38.951644Z",
          "shell.execute_reply.started": "2024-10-08T13:27:38.126486Z"
        },
        "id": "_xQg-NY1ij9y",
        "trusted": true
      },
      "outputs": [],
      "source": [
        "from qiskit.circuit.library import PauliFeatureMap\n",
        "\n",
        "feature_map = PauliFeatureMap(num_features, reps = 1, paulis=[\"xx\"])"
      ]
    },
    {
      "cell_type": "code",
      "execution_count": 16,
      "metadata": {
        "execution": {
          "iopub.execute_input": "2024-10-08T13:29:19.611216Z",
          "iopub.status.busy": "2024-10-08T13:29:19.610803Z",
          "iopub.status.idle": "2024-10-08T13:29:20.443935Z",
          "shell.execute_reply": "2024-10-08T13:29:20.442805Z",
          "shell.execute_reply.started": "2024-10-08T13:29:19.611186Z"
        },
        "id": "Gf416If2ij9y",
        "outputId": "10150992-6ce6-4f80-b907-7b38e7f55de7",
        "trusted": true
      },
      "outputs": [
        {
          "data": {
            "image/png": "[encoded data removed]",
            "text/plain": [
              "<Figure size 2210.55x953.167 with 1 Axes>"
            ]
          },
          "execution_count": 16,
          "metadata": {},
          "output_type": "execute_result"
        }
      ],
      "source": [
        "feature_map.decompose().draw(output = \"mpl\", fold = 25)"
      ]
    },
    {
      "cell_type": "markdown",
      "metadata": {
        "id": "kgs014iAij9y"
      },
      "source": [
        "## Ansatz\n",
        "\n",
        "#### TwoLocal\n",
        "https://docs.quantum.ibm.com/api/qiskit/qiskit.circuit.library.TwoLocal -> ENTENDER MELHOR\n",
        "\n",
        "TwoLocal.__Subclasses__() -> Ansatz = RealAmplitudes com nº de qubits = nº de features e 2 repetições\n",
        "\n",
        "Decompose e draw Ansatz, output \"mpl\", fold = 20"
      ]
    },
    {
      "cell_type": "code",
      "execution_count": 10,
      "metadata": {
        "execution": {
          "iopub.execute_input": "2024-10-08T13:28:39.469001Z",
          "iopub.status.busy": "2024-10-08T13:28:39.468414Z",
          "iopub.status.idle": "2024-10-08T13:28:39.478665Z",
          "shell.execute_reply": "2024-10-08T13:28:39.477448Z",
          "shell.execute_reply.started": "2024-10-08T13:28:39.468960Z"
        },
        "id": "spb9JdTNij9y",
        "trusted": true
      },
      "outputs": [],
      "source": [
        "from qiskit.circuit.library import RealAmplitudes\n",
        "ansatz = RealAmplitudes(num_features, reps = 2)"
      ]
    },
    {
      "cell_type": "code",
      "execution_count": 11,
      "metadata": {
        "execution": {
          "iopub.execute_input": "2024-10-08T13:28:44.359263Z",
          "iopub.status.busy": "2024-10-08T13:28:44.358804Z",
          "iopub.status.idle": "2024-10-08T13:28:45.014456Z",
          "shell.execute_reply": "2024-10-08T13:28:45.012946Z",
          "shell.execute_reply.started": "2024-10-08T13:28:44.359227Z"
        },
        "id": "7jWH3sqvij9z",
        "outputId": "251f2757-713e-4562-f519-ecd1e597c575",
        "trusted": true
      },
      "outputs": [
        {
          "data": {
            "image/png": "[encoded data removed]",
            "text/plain": [
              "<Figure size 872.774x451.5 with 1 Axes>"
            ]
          },
          "execution_count": 11,
          "metadata": {},
          "output_type": "execute_result"
        }
      ],
      "source": [
        "ansatz.decompose().draw(output = \"mpl\", fold = 40)"
      ]
    },
    {
      "cell_type": "markdown",
      "metadata": {
        "id": "kXnhHqleij9z"
      },
      "source": [
        "## OTIMIZADOR\n",
        "\n",
        "#### ADAM\n",
        "\n",
        "Rodar com configurações padrão."
      ]
    },
    {
      "cell_type": "code",
      "execution_count": 12,
      "metadata": {
        "execution": {
          "iopub.execute_input": "2024-10-08T13:33:33.309186Z",
          "iopub.status.busy": "2024-10-08T13:33:33.308786Z",
          "iopub.status.idle": "2024-10-08T13:33:33.830432Z",
          "shell.execute_reply": "2024-10-08T13:33:33.828702Z",
          "shell.execute_reply.started": "2024-10-08T13:33:33.309151Z"
        },
        "id": "IN7BYeuUij9z",
        "trusted": true
      },
      "outputs": [],
      "source": [
        "from qiskit_machine_learning.optimizers import ADAM\n",
        "optimizer = ADAM(maxiter=100)"
      ]
    },
    {
      "cell_type": "markdown",
      "metadata": {
        "id": "yoHNa1EPij9z"
      },
      "source": [
        "## SAMPLER\n",
        "Erro no VQC, checar motivo\n",
        "\n",
        "Importar Sampler, shots=512 -> https://docs.quantum.ibm.com/api/qiskit/qiskit.primitives.StatevectorSampler"
      ]
    },
    {
      "cell_type": "code",
      "execution_count": 13,
      "metadata": {
        "execution": {
          "iopub.execute_input": "2024-09-28T20:56:58.517922Z",
          "iopub.status.busy": "2024-09-28T20:56:58.517492Z",
          "iopub.status.idle": "2024-09-28T20:56:58.523839Z",
          "shell.execute_reply": "2024-09-28T20:56:58.522552Z",
          "shell.execute_reply.started": "2024-09-28T20:56:58.517890Z"
        },
        "id": "Tf0q46ifij9z",
        "trusted": true
      },
      "outputs": [],
      "source": [
        "from qiskit.primitives import StatevectorSampler\n",
        "\n",
        "sampler = StatevectorSampler()"
      ]
    },
    {
      "cell_type": "markdown",
      "metadata": {
        "id": "RMsrIyiQij9z"
      },
      "source": [
        "## Callback Function\n",
        "Importar pyplot para plotar gráfico da função custo pelas iterações - callback_graph"
      ]
    },
    {
      "cell_type": "code",
      "execution_count": 17,
      "metadata": {
        "execution": {
          "iopub.execute_input": "2024-10-08T13:34:01.124189Z",
          "iopub.status.busy": "2024-10-08T13:34:01.123761Z",
          "iopub.status.idle": "2024-10-08T13:34:01.131635Z",
          "shell.execute_reply": "2024-10-08T13:34:01.130408Z",
          "shell.execute_reply.started": "2024-10-08T13:34:01.124157Z"
        },
        "id": "6ubvYWgfij90",
        "trusted": true
      },
      "outputs": [],
      "source": [
        "from matplotlib import pyplot as plt\n",
        "from IPython.display import clear_output\n",
        "\n",
        "objective_func_vals = []\n",
        "plt.rcParams[\"figure.figsize\"]= (12,6)\n",
        "\n",
        "def callback_graph(weights, obj_func_eval): #\n",
        "    clear_output(wait=True)\n",
        "    objective_func_vals.append(obj_func_eval)\n",
        "    plt.title(\"Função de Custo\")\n",
        "    plt.xlabel(\"Iterações\")\n",
        "    plt.ylabel(\"Função de Custo\")\n",
        "    plt.plot(range(len(objective_func_vals)), objective_func_vals)\n",
        "    plt.show()\n",
        "    "
      ]
    },
    {
      "cell_type": "markdown",
      "metadata": {
        "id": "xKMPM8vsij90"
      },
      "source": [
        "\n",
        "## VQC\n",
        "Importar classificador VQC do Qiskit -> https://github.com/qiskit-community/qiskit-machine-learning // https://qiskit-community.github.io/qiskit-machine-learning/getting_started.html#installation\n",
        "\n",
        "VQC { sampler = sampler; feature_map = feature_map, ansatz = ansatz; optimizer = optimizer; callback = callback_graph }\n",
        "\n",
        "Importar time para visualizar o tempo de execução\n",
        "\n",
        "VQC.fit(train_features, train_labels.values)"
      ]
    },
    {
      "cell_type": "code",
      "execution_count": 18,
      "metadata": {
        "execution": {
          "iopub.execute_input": "2024-10-08T13:34:48.859736Z",
          "iopub.status.busy": "2024-10-08T13:34:48.858755Z"
        },
        "id": "O4-ugAQ3ij90",
        "trusted": true
      },
      "outputs": [
        {
          "name": "stdout",
          "output_type": "stream",
          "text": [
            "Training time: 150975 seconds\n"
          ]
        }
      ],
      "source": [
        "import time\n",
        "from qiskit_machine_learning.algorithms.classifiers import VQC\n",
        "from qiskit_aer import *\n",
        "from qiskit.transpiler.preset_passmanagers import generate_preset_pass_manager\n",
        "\n",
        "sim = AerSimulator(method='statevector', device='GPU')\n",
        "\n",
        "vqc = VQC(\n",
        "    #sampler=sampler,\n",
        "    feature_map=feature_map,\n",
        "    ansatz=ansatz,\n",
        "    optimizer=optimizer,\n",
        "    callback=callback_graph,\n",
        "    pass_manager=generate_preset_pass_manager(backend=sim)\n",
        ")\n",
        "\n",
        "start = time.time()\n",
        "vqc.fit(train, y_train.values)\n",
        "elapsed = time.time() - start\n",
        "\n",
        "vqc.save(f'trained_models/{train_name}.model')\n",
        "\n",
        "\n",
        "print(f\"Training time: {round(elapsed)} seconds\")"
      ]
    },
    {
      "cell_type": "code",
      "execution_count": 19,
      "metadata": {},
      "outputs": [
        {
          "name": "stdout",
          "output_type": "stream",
          "text": [
            "[]\n"
          ]
        }
      ],
      "source": [
        "print(objective_func_vals)"
      ]
    },
    {
      "cell_type": "code",
      "execution_count": 20,
      "metadata": {
        "id": "LB1qP2vdij90"
      },
      "outputs": [
        {
          "name": "stdout",
          "output_type": "stream",
          "text": [
            "Acuracia: 68.0%\n"
          ]
        }
      ],
      "source": [
        "train_acc = vqc.score(train, y_train)\n",
        "print(f'Acuracia: {round(train_acc,2)*100}%')"
      ]
    },
    {
      "cell_type": "markdown",
      "metadata": {
        "id": "Eb7MTcDEij90"
      },
      "source": [
        "Rodar com o teste -> VQC.predict(test);\n",
        "\n",
        "Realizar avaliação dos resultados (acurácia, precisão, recall...)"
      ]
    },
    {
      "cell_type": "code",
      "execution_count": 21,
      "metadata": {
        "id": "fqMuFPj8mIuA"
      },
      "outputs": [
        {
          "data": {
            "text/plain": [
              "array([1., 1., 1., ..., 1., 1., 1.])"
            ]
          },
          "execution_count": 21,
          "metadata": {},
          "output_type": "execute_result"
        }
      ],
      "source": [
        "y_predicted = vqc.predict(test)\n",
        "\n",
        "y_predicted"
      ]
    },
    {
      "cell_type": "code",
      "execution_count": 22,
      "metadata": {
        "id": "GVR6yIltmB_u"
      },
      "outputs": [
        {
          "name": "stdout",
          "output_type": "stream",
          "text": [
            "              precision    recall  f1-score   support\n",
            "\n",
            "         0.0       0.00      0.00      0.00      6575\n",
            "         1.0       0.67      1.00      0.81     13655\n",
            "\n",
            "    accuracy                           0.67     20230\n",
            "   macro avg       0.34      0.50      0.40     20230\n",
            "weighted avg       0.46      0.67      0.54     20230\n",
            "\n"
          ]
        },
        {
          "name": "stderr",
          "output_type": "stream",
          "text": [
            "/home/usuario/Documentos/VQCforIoT/.vqcforiot/lib/python3.12/site-packages/sklearn/metrics/_classification.py:1565: UndefinedMetricWarning: Precision is ill-defined and being set to 0.0 in labels with no predicted samples. Use `zero_division` parameter to control this behavior.\n",
            "  _warn_prf(average, modifier, f\"{metric.capitalize()} is\", len(result))\n",
            "/home/usuario/Documentos/VQCforIoT/.vqcforiot/lib/python3.12/site-packages/sklearn/metrics/_classification.py:1565: UndefinedMetricWarning: Precision is ill-defined and being set to 0.0 in labels with no predicted samples. Use `zero_division` parameter to control this behavior.\n",
            "  _warn_prf(average, modifier, f\"{metric.capitalize()} is\", len(result))\n",
            "/home/usuario/Documentos/VQCforIoT/.vqcforiot/lib/python3.12/site-packages/sklearn/metrics/_classification.py:1565: UndefinedMetricWarning: Precision is ill-defined and being set to 0.0 in labels with no predicted samples. Use `zero_division` parameter to control this behavior.\n",
            "  _warn_prf(average, modifier, f\"{metric.capitalize()} is\", len(result))\n"
          ]
        }
      ],
      "source": [
        "import sklearn.metrics as metrics\n",
        "print(metrics.classification_report(y_test, y_predicted))"
      ]
    },
    {
      "cell_type": "code",
      "execution_count": 23,
      "metadata": {
        "id": "2mnItdb9mvTW"
      },
      "outputs": [
        {
          "name": "stdout",
          "output_type": "stream",
          "text": [
            "[[    0  6575]\n",
            " [    0 13655]]\n",
            "0 6575 0 13655\n"
          ]
        }
      ],
      "source": [
        "confusion_matrix = metrics.confusion_matrix(y_test, y_predicted)\n",
        "print(confusion_matrix)\n",
        "\n",
        "tn, fp, fn, tp = metrics.confusion_matrix(y_test, y_predicted).ravel()\n",
        "\n",
        "print(tn, fp, fn, tp)"
      ]
    },
    {
      "cell_type": "code",
      "execution_count": null,
      "metadata": {},
      "outputs": [],
      "source": []
    }
  ],
  "metadata": {
    "accelerator": "GPU",
    "colab": {
      "gpuType": "L4",
      "machine_shape": "hm",
      "provenance": []
    },
    "kaggle": {
      "accelerator": "none",
      "dataSources": [
        {
          "datasetId": 4511772,
          "sourceId": 8085987,
          "sourceType": "datasetVersion"
        },
        {
          "datasetId": 5661215,
          "sourceId": 9341409,
          "sourceType": "datasetVersion"
        }
      ],
      "dockerImageVersionId": 30664,
      "isGpuEnabled": false,
      "isInternetEnabled": true,
      "language": "python",
      "sourceType": "notebook"
    },
    "kernelspec": {
      "display_name": ".vqcforiot",
      "language": "python",
      "name": "python3"
    },
    "language_info": {
      "codemirror_mode": {
        "name": "ipython",
        "version": 3
      },
      "file_extension": ".py",
      "mimetype": "text/x-python",
      "name": "python",
      "nbconvert_exporter": "python",
      "pygments_lexer": "ipython3",
      "version": "3.12.4"
    }
  },
  "nbformat": 4,
  "nbformat_minor": 0
}
