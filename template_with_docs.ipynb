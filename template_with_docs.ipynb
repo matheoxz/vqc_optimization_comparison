{
  "cells": [
    {
      "cell_type": "markdown",
      "metadata": {
        "id": "_wotVEziij9s"
      },
      "source": [
        "Instalar Qiskit e importar as bibliotecas necessárias, incluindo numpy e pandas"
      ]
    },
    {
      "cell_type": "code",
      "execution_count": null,
      "metadata": {},
      "outputs": [],
      "source": [
        "train_name = \"model_train_name\""
      ]
    },
    {
      "cell_type": "code",
      "execution_count": 1,
      "metadata": {
        "colab": {
          "base_uri": "https://localhost:8080/"
        },
        "execution": {
          "iopub.execute_input": "2024-10-08T13:16:49.691467Z",
          "iopub.status.busy": "2024-10-08T13:16:49.691068Z",
          "iopub.status.idle": "2024-10-08T13:17:12.003372Z",
          "shell.execute_reply": "2024-10-08T13:17:12.001699Z",
          "shell.execute_reply.started": "2024-10-08T13:16:49.691432Z"
        },
        "id": "4vAPGP0uij9t",
        "outputId": "43e330ea-520d-4779-ae3d-e981f0fd4786",
        "trusted": true
      },
      "outputs": [
        {
          "name": "stdout",
          "output_type": "stream",
          "text": [
            "Requirement already satisfied: qiskit in c:\\users\\mathe\\appdata\\local\\programs\\python\\python313\\lib\\site-packages (1.3.2)"
          ]
        },
        {
          "name": "stderr",
          "output_type": "stream",
          "text": [
            "\n",
            "[notice] A new release of pip is available: 24.2 -> 25.0\n",
            "[notice] To update, run: python.exe -m pip install --upgrade pip\n"
          ]
        },
        {
          "name": "stdout",
          "output_type": "stream",
          "text": [
            "\n",
            "Requirement already satisfied: pylatexenc in c:\\users\\mathe\\appdata\\local\\programs\\python\\python313\\lib\\site-packages (2.10)\n",
            "Requirement already satisfied: qiskit_algorithms in c:\\users\\mathe\\appdata\\local\\programs\\python\\python313\\lib\\site-packages (0.3.1)\n",
            "Requirement already satisfied: qiskit_machine_learning in c:\\users\\mathe\\appdata\\local\\programs\\python\\python313\\lib\\site-packages (0.8.2)\n",
            "Requirement already satisfied: matplotlib in c:\\users\\mathe\\appdata\\local\\programs\\python\\python313\\lib\\site-packages (3.10.0)\n",
            "Requirement already satisfied: rustworkx>=0.15.0 in c:\\users\\mathe\\appdata\\local\\programs\\python\\python313\\lib\\site-packages (from qiskit) (0.16.0)\n",
            "Requirement already satisfied: numpy<3,>=1.17 in c:\\users\\mathe\\appdata\\local\\programs\\python\\python313\\lib\\site-packages (from qiskit) (1.26.4)\n",
            "Requirement already satisfied: scipy>=1.5 in c:\\users\\mathe\\appdata\\local\\programs\\python\\python313\\lib\\site-packages (from qiskit) (1.15.1)\n",
            "Requirement already satisfied: sympy>=1.3 in c:\\users\\mathe\\appdata\\local\\programs\\python\\python313\\lib\\site-packages (from qiskit) (1.13.3)\n",
            "Requirement already satisfied: dill>=0.3 in c:\\users\\mathe\\appdata\\local\\programs\\python\\python313\\lib\\site-packages (from qiskit) (0.3.9)\n",
            "Requirement already satisfied: python-dateutil>=2.8.0 in c:\\users\\mathe\\appdata\\local\\programs\\python\\python313\\lib\\site-packages (from qiskit) (2.9.0.post0)\n",
            "Requirement already satisfied: stevedore>=3.0.0 in c:\\users\\mathe\\appdata\\local\\programs\\python\\python313\\lib\\site-packages (from qiskit) (5.4.0)\n",
            "Requirement already satisfied: typing-extensions in c:\\users\\mathe\\appdata\\local\\programs\\python\\python313\\lib\\site-packages (from qiskit) (4.12.2)\n",
            "Requirement already satisfied: symengine<0.14,>=0.11 in c:\\users\\mathe\\appdata\\local\\programs\\python\\python313\\lib\\site-packages (from qiskit) (0.13.0)\n",
            "Requirement already satisfied: psutil>=5 in c:\\users\\mathe\\appdata\\roaming\\python\\python313\\site-packages (from qiskit_machine_learning) (6.1.1)\n",
            "Requirement already satisfied: scikit-learn>=1.2 in c:\\users\\mathe\\appdata\\local\\programs\\python\\python313\\lib\\site-packages (from qiskit_machine_learning) (1.6.1)\n",
            "Requirement already satisfied: setuptools>=40.1 in c:\\users\\mathe\\appdata\\local\\programs\\python\\python313\\lib\\site-packages (from qiskit_machine_learning) (75.8.0)\n",
            "Requirement already satisfied: contourpy>=1.0.1 in c:\\users\\mathe\\appdata\\local\\programs\\python\\python313\\lib\\site-packages (from matplotlib) (1.3.1)\n",
            "Requirement already satisfied: cycler>=0.10 in c:\\users\\mathe\\appdata\\local\\programs\\python\\python313\\lib\\site-packages (from matplotlib) (0.12.1)\n",
            "Requirement already satisfied: fonttools>=4.22.0 in c:\\users\\mathe\\appdata\\local\\programs\\python\\python313\\lib\\site-packages (from matplotlib) (4.56.0)\n",
            "Requirement already satisfied: kiwisolver>=1.3.1 in c:\\users\\mathe\\appdata\\local\\programs\\python\\python313\\lib\\site-packages (from matplotlib) (1.4.8)\n",
            "Requirement already satisfied: packaging>=20.0 in c:\\users\\mathe\\appdata\\local\\programs\\python\\python313\\lib\\site-packages (from matplotlib) (24.2)\n",
            "Requirement already satisfied: pillow>=8 in c:\\users\\mathe\\appdata\\local\\programs\\python\\python313\\lib\\site-packages (from matplotlib) (11.0.0)\n",
            "Requirement already satisfied: pyparsing>=2.3.1 in c:\\users\\mathe\\appdata\\local\\programs\\python\\python313\\lib\\site-packages (from matplotlib) (3.2.0)\n",
            "Requirement already satisfied: six>=1.5 in c:\\users\\mathe\\appdata\\local\\programs\\python\\python313\\lib\\site-packages (from python-dateutil>=2.8.0->qiskit) (1.16.0)\n",
            "Requirement already satisfied: joblib>=1.2.0 in c:\\users\\mathe\\appdata\\local\\programs\\python\\python313\\lib\\site-packages (from scikit-learn>=1.2->qiskit_machine_learning) (1.4.2)\n",
            "Requirement already satisfied: threadpoolctl>=3.1.0 in c:\\users\\mathe\\appdata\\local\\programs\\python\\python313\\lib\\site-packages (from scikit-learn>=1.2->qiskit_machine_learning) (3.5.0)\n",
            "Requirement already satisfied: pbr>=2.0.0 in c:\\users\\mathe\\appdata\\local\\programs\\python\\python313\\lib\\site-packages (from stevedore>=3.0.0->qiskit) (6.1.1)\n",
            "Requirement already satisfied: mpmath<1.4,>=1.1.0 in c:\\users\\mathe\\appdata\\local\\programs\\python\\python313\\lib\\site-packages (from sympy>=1.3->qiskit) (1.3.0)\n"
          ]
        }
      ],
      "source": [
        "!pip install qiskit pylatexenc qiskit_algorithms qiskit_machine_learning matplotlib"
      ]
    },
    {
      "cell_type": "markdown",
      "metadata": {
        "id": "lAdXiFosij9u"
      },
      "source": [
        "Separar datasets de treinamento e teste, separar as features que serão utilizadas.\n",
        "Preencher nan com a média de valores da coluna.  // Testar também normalização [0;pi]"
      ]
    },
    {
      "cell_type": "code",
      "execution_count": 3,
      "metadata": {
        "execution": {
          "iopub.execute_input": "2024-10-08T13:19:24.526660Z",
          "iopub.status.busy": "2024-10-08T13:19:24.525736Z",
          "iopub.status.idle": "2024-10-08T13:19:24.980186Z",
          "shell.execute_reply": "2024-10-08T13:19:24.978859Z",
          "shell.execute_reply.started": "2024-10-08T13:19:24.526611Z"
        },
        "id": "nGBbMCP1ij9v",
        "trusted": true
      },
      "outputs": [],
      "source": [
        "import numpy as np\n",
        "import pandas as pd"
      ]
    },
    {
      "cell_type": "code",
      "execution_count": 4,
      "metadata": {
        "execution": {
          "iopub.execute_input": "2024-10-08T13:23:35.805204Z",
          "iopub.status.busy": "2024-10-08T13:23:35.804240Z",
          "iopub.status.idle": "2024-10-08T13:23:36.108554Z",
          "shell.execute_reply": "2024-10-08T13:23:36.107433Z",
          "shell.execute_reply.started": "2024-10-08T13:23:35.805164Z"
        },
        "id": "p-8ZLQyZij9w",
        "trusted": true
      },
      "outputs": [],
      "source": [
        "train = pd.read_csv(\"./train_normalized.csv\")\n",
        "test = pd.read_csv(\"./test_normalized.csv\")"
      ]
    },
    {
      "cell_type": "code",
      "execution_count": 5,
      "metadata": {
        "execution": {
          "iopub.execute_input": "2024-10-08T13:24:54.835051Z",
          "iopub.status.busy": "2024-10-08T13:24:54.834532Z",
          "iopub.status.idle": "2024-10-08T13:24:54.843418Z",
          "shell.execute_reply": "2024-10-08T13:24:54.841534Z",
          "shell.execute_reply.started": "2024-10-08T13:24:54.835015Z"
        },
        "id": "r6j3jkd7ij9w",
        "trusted": true
      },
      "outputs": [],
      "source": [
        "y_train = train['label']\n",
        "y_test = test['label']"
      ]
    },
    {
      "cell_type": "markdown",
      "metadata": {
        "id": "mTq6u305ij9w"
      },
      "source": [
        "## FEATURE SELECTION"
      ]
    },
    {
      "cell_type": "code",
      "execution_count": 6,
      "metadata": {
        "execution": {
          "iopub.execute_input": "2024-10-08T13:26:25.167447Z",
          "iopub.status.busy": "2024-10-08T13:26:25.167014Z",
          "iopub.status.idle": "2024-10-08T13:26:25.174022Z",
          "shell.execute_reply": "2024-10-08T13:26:25.172145Z",
          "shell.execute_reply.started": "2024-10-08T13:26:25.167410Z"
        },
        "id": "MsxEPw8mij9w",
        "trusted": true
      },
      "outputs": [],
      "source": [
        "selected_features = [\"proto\", \"orig_bytes\", \"conn_state\", \"resp_pkts\", \"resp_ip_bytes\"]\n",
        "num_features = len(selected_features)"
      ]
    },
    {
      "cell_type": "code",
      "execution_count": 7,
      "metadata": {
        "execution": {
          "iopub.execute_input": "2024-10-08T13:25:06.033898Z",
          "iopub.status.busy": "2024-10-08T13:25:06.033514Z",
          "iopub.status.idle": "2024-10-08T13:25:06.042418Z",
          "shell.execute_reply": "2024-10-08T13:25:06.041062Z",
          "shell.execute_reply.started": "2024-10-08T13:25:06.033868Z"
        },
        "id": "pIvW8xDrij9x",
        "trusted": true
      },
      "outputs": [],
      "source": [
        "train = train[selected_features]\n",
        "test = test[selected_features]"
      ]
    },
    {
      "cell_type": "code",
      "execution_count": 8,
      "metadata": {
        "colab": {
          "base_uri": "https://localhost:8080/",
          "height": 206
        },
        "execution": {
          "iopub.execute_input": "2024-10-08T13:26:01.123850Z",
          "iopub.status.busy": "2024-10-08T13:26:01.123457Z",
          "iopub.status.idle": "2024-10-08T13:26:01.141361Z",
          "shell.execute_reply": "2024-10-08T13:26:01.140125Z",
          "shell.execute_reply.started": "2024-10-08T13:26:01.123817Z"
        },
        "id": "hD_lTkTyij9x",
        "outputId": "8bf1c0e0-4299-4419-f193-7ce971280532",
        "trusted": true
      },
      "outputs": [
        {
          "data": {
            "text/html": [
              "<div>\n",
              "<style scoped>\n",
              "    .dataframe tbody tr th:only-of-type {\n",
              "        vertical-align: middle;\n",
              "    }\n",
              "\n",
              "    .dataframe tbody tr th {\n",
              "        vertical-align: top;\n",
              "    }\n",
              "\n",
              "    .dataframe thead th {\n",
              "        text-align: right;\n",
              "    }\n",
              "</style>\n",
              "<table border=\"1\" class=\"dataframe\">\n",
              "  <thead>\n",
              "    <tr style=\"text-align: right;\">\n",
              "      <th></th>\n",
              "      <th>proto</th>\n",
              "      <th>orig_bytes</th>\n",
              "      <th>conn_state</th>\n",
              "      <th>resp_pkts</th>\n",
              "      <th>resp_ip_bytes</th>\n",
              "    </tr>\n",
              "  </thead>\n",
              "  <tbody>\n",
              "    <tr>\n",
              "      <th>0</th>\n",
              "      <td>0.5</td>\n",
              "      <td>0.000000e+00</td>\n",
              "      <td>0.000000</td>\n",
              "      <td>0.000000</td>\n",
              "      <td>0.000000e+00</td>\n",
              "    </tr>\n",
              "    <tr>\n",
              "      <th>1</th>\n",
              "      <td>0.5</td>\n",
              "      <td>0.000000e+00</td>\n",
              "      <td>0.000000</td>\n",
              "      <td>0.000000</td>\n",
              "      <td>0.000000e+00</td>\n",
              "    </tr>\n",
              "    <tr>\n",
              "      <th>2</th>\n",
              "      <td>0.5</td>\n",
              "      <td>0.000000e+00</td>\n",
              "      <td>0.000000</td>\n",
              "      <td>0.000000</td>\n",
              "      <td>0.000000e+00</td>\n",
              "    </tr>\n",
              "    <tr>\n",
              "      <th>3</th>\n",
              "      <td>0.5</td>\n",
              "      <td>0.000000e+00</td>\n",
              "      <td>0.000000</td>\n",
              "      <td>0.000000</td>\n",
              "      <td>0.000000e+00</td>\n",
              "    </tr>\n",
              "    <tr>\n",
              "      <th>4</th>\n",
              "      <td>0.5</td>\n",
              "      <td>2.382635e-07</td>\n",
              "      <td>0.833333</td>\n",
              "      <td>0.000017</td>\n",
              "      <td>6.178160e-07</td>\n",
              "    </tr>\n",
              "  </tbody>\n",
              "</table>\n",
              "</div>"
            ],
            "text/plain": [
              "   proto    orig_bytes  conn_state  resp_pkts  resp_ip_bytes\n",
              "0    0.5  0.000000e+00    0.000000   0.000000   0.000000e+00\n",
              "1    0.5  0.000000e+00    0.000000   0.000000   0.000000e+00\n",
              "2    0.5  0.000000e+00    0.000000   0.000000   0.000000e+00\n",
              "3    0.5  0.000000e+00    0.000000   0.000000   0.000000e+00\n",
              "4    0.5  2.382635e-07    0.833333   0.000017   6.178160e-07"
            ]
          },
          "execution_count": 8,
          "metadata": {},
          "output_type": "execute_result"
        }
      ],
      "source": [
        "train.head(5)"
      ]
    },
    {
      "cell_type": "markdown",
      "metadata": {
        "id": "3WOrQp4Eij9x"
      },
      "source": [
        "Definir o Label para treinamento (característica que se quer prever)"
      ]
    },
    {
      "cell_type": "markdown",
      "metadata": {
        "id": "6cArqys8ij9y"
      },
      "source": [
        "## FEATURE MAP\n",
        "\n",
        "- [ZZFeatureMap](https://docs.quantum.ibm.com/api/qiskit/qiskit.circuit.library.ZZFeatureMap): Aplica portas Hadamard (H) e rotações Pauli-Z parametrizadas (Z), seguidas de interações de entrelaçamento (por exemplo, portas CX e rotações ZZ).\n",
        "- [ZFeatureMap](https://docs.quantum.ibm.com/api/qiskit/qiskit.circuit.library.ZFeatureMap): Circuito mais simples, com repetições de camadas de portas H e Z em cada qubit, sem interações entre eles.\n",
        "- [PauliFeatureMap](https://docs.quantum.ibm.com/api/qiskit/qiskit.circuit.library.PauliFeatureMap): Classe base para feature maps que utilizam operações Pauli (como Z, X, Y) para codificação."
      ]
    },
    {
      "cell_type": "markdown",
      "metadata": {},
      "source": [
        "### ZZ FEATURE MAP"
      ]
    },
    {
      "cell_type": "code",
      "execution_count": 9,
      "metadata": {
        "execution": {
          "iopub.execute_input": "2024-10-08T13:27:38.126521Z",
          "iopub.status.busy": "2024-10-08T13:27:38.126074Z",
          "iopub.status.idle": "2024-10-08T13:27:38.953195Z",
          "shell.execute_reply": "2024-10-08T13:27:38.951644Z",
          "shell.execute_reply.started": "2024-10-08T13:27:38.126486Z"
        },
        "id": "_xQg-NY1ij9y",
        "trusted": true
      },
      "outputs": [],
      "source": [
        "from qiskit.circuit.library import ZZFeatureMap\n",
        "\n",
        "feature_map = ZZFeatureMap(num_features, reps = 1)"
      ]
    },
    {
      "cell_type": "code",
      "execution_count": 10,
      "metadata": {
        "execution": {
          "iopub.execute_input": "2024-10-08T13:29:19.611216Z",
          "iopub.status.busy": "2024-10-08T13:29:19.610803Z",
          "iopub.status.idle": "2024-10-08T13:29:20.443935Z",
          "shell.execute_reply": "2024-10-08T13:29:20.442805Z",
          "shell.execute_reply.started": "2024-10-08T13:29:19.611186Z"
        },
        "id": "Gf416If2ij9y",
        "outputId": "10150992-6ce6-4f80-b907-7b38e7f55de7",
        "trusted": true
      },
      "outputs": [
        {
          "data": {
            "image/png": "[encoded data removed]",
            "text/plain": [
              "<Figure size 2210.55x953.167 with 1 Axes>"
            ]
          },
          "execution_count": 10,
          "metadata": {},
          "output_type": "execute_result"
        }
      ],
      "source": [
        "feature_map.decompose().draw(output = \"mpl\", fold = 25)"
      ]
    },
    {
      "cell_type": "markdown",
      "metadata": {},
      "source": [
        "### YY Pauli Feature Map"
      ]
    },
    {
      "cell_type": "code",
      "execution_count": null,
      "metadata": {},
      "outputs": [],
      "source": [
        "from qiskit.circuit.library import PauliFeatureMap\n",
        "\n",
        "feature_map = PauliFeatureMap(num_features, reps = 1, paulis=[\"YY\"])"
      ]
    },
    {
      "cell_type": "markdown",
      "metadata": {},
      "source": [
        "### XX Pauli Feature Map"
      ]
    },
    {
      "cell_type": "code",
      "execution_count": null,
      "metadata": {},
      "outputs": [],
      "source": [
        "from qiskit.circuit.library import PauliFeatureMap\n",
        "\n",
        "feature_map = PauliFeatureMap(num_features, reps = 1, paulis=[\"XX\"])"
      ]
    },
    {
      "cell_type": "markdown",
      "metadata": {
        "id": "kgs014iAij9y"
      },
      "source": [
        "## Ansatz\n",
        "\n",
        "#### [TwoLocal](https://docs.quantum.ibm.com/api/qiskit/qiskit.circuit.library.TwoLocal)\n"
      ]
    },
    {
      "cell_type": "code",
      "execution_count": 11,
      "metadata": {
        "execution": {
          "iopub.execute_input": "2024-10-08T13:28:39.469001Z",
          "iopub.status.busy": "2024-10-08T13:28:39.468414Z",
          "iopub.status.idle": "2024-10-08T13:28:39.478665Z",
          "shell.execute_reply": "2024-10-08T13:28:39.477448Z",
          "shell.execute_reply.started": "2024-10-08T13:28:39.468960Z"
        },
        "id": "spb9JdTNij9y",
        "trusted": true
      },
      "outputs": [],
      "source": [
        "from qiskit.circuit.library import RealAmplitudes\n",
        "ansatz = RealAmplitudes(num_features, reps = 2)"
      ]
    },
    {
      "cell_type": "code",
      "execution_count": 12,
      "metadata": {
        "execution": {
          "iopub.execute_input": "2024-10-08T13:28:44.359263Z",
          "iopub.status.busy": "2024-10-08T13:28:44.358804Z",
          "iopub.status.idle": "2024-10-08T13:28:45.014456Z",
          "shell.execute_reply": "2024-10-08T13:28:45.012946Z",
          "shell.execute_reply.started": "2024-10-08T13:28:44.359227Z"
        },
        "id": "7jWH3sqvij9z",
        "outputId": "251f2757-713e-4562-f519-ecd1e597c575",
        "trusted": true
      },
      "outputs": [
        {
          "data": {
            "image/png": "[encoded data removed]",
            "text/plain": [
              "<Figure size 872.774x451.5 with 1 Axes>"
            ]
          },
          "execution_count": 12,
          "metadata": {},
          "output_type": "execute_result"
        }
      ],
      "source": [
        "ansatz.decompose().draw(output = \"mpl\", fold = 40)"
      ]
    },
    {
      "cell_type": "markdown",
      "metadata": {},
      "source": [
        "### [Hamiltonian Variational Ansatz](https://docs.quantum.ibm.com/api/qiskit/qiskit.circuit.library.hamiltonian_variational_ansatz)"
      ]
    },
    {
      "cell_type": "markdown",
      "metadata": {},
      "source": []
    },
    {
      "cell_type": "markdown",
      "metadata": {
        "id": "kXnhHqleij9z"
      },
      "source": [
        "## OTIMIZADORES\n",
        "\n",
        "#### [COBYLA](https://qiskit-community.github.io/qiskit-machine-learning/stubs/qiskit_machine_learning.optimizers.COBYLA.html#qiskit_machine_learning.optimizers.COBYLA)"
      ]
    },
    {
      "cell_type": "code",
      "execution_count": 13,
      "metadata": {
        "execution": {
          "iopub.execute_input": "2024-10-08T13:33:33.309186Z",
          "iopub.status.busy": "2024-10-08T13:33:33.308786Z",
          "iopub.status.idle": "2024-10-08T13:33:33.830432Z",
          "shell.execute_reply": "2024-10-08T13:33:33.828702Z",
          "shell.execute_reply.started": "2024-10-08T13:33:33.309151Z"
        },
        "id": "IN7BYeuUij9z",
        "trusted": true
      },
      "outputs": [],
      "source": [
        "from qiskit_algorithms.optimizers import COBYLA\n",
        "optimizer = COBYLA(maxiter=100)"
      ]
    },
    {
      "cell_type": "markdown",
      "metadata": {},
      "source": [
        "### [ADAM](https://qiskit-community.github.io/qiskit-machine-learning/stubs/qiskit_machine_learning.optimizers.ADAM.html#qiskit_machine_learning.optimizers.ADAM)"
      ]
    },
    {
      "cell_type": "code",
      "execution_count": null,
      "metadata": {},
      "outputs": [],
      "source": []
    },
    {
      "cell_type": "markdown",
      "metadata": {},
      "source": [
        "### [POWELL](https://qiskit-community.github.io/qiskit-machine-learning/stubs/qiskit_machine_learning.optimizers.POWELL.html#qiskit_machine_learning.optimizers.POWELL)"
      ]
    },
    {
      "cell_type": "code",
      "execution_count": null,
      "metadata": {},
      "outputs": [],
      "source": []
    },
    {
      "cell_type": "markdown",
      "metadata": {},
      "source": [
        "### [SPSA](https://qiskit-community.github.io/qiskit-machine-learning/stubs/qiskit_machine_learning.optimizers.SPSA.html#qiskit_machine_learning.optimizers.SPSA)"
      ]
    },
    {
      "cell_type": "markdown",
      "metadata": {},
      "source": []
    },
    {
      "cell_type": "markdown",
      "metadata": {
        "id": "yoHNa1EPij9z"
      },
      "source": [
        "## SAMPLER\n",
        "Erro no VQC, checar motivo\n",
        "\n",
        "Importar Sampler, shots=512 -> https://docs.quantum.ibm.com/api/qiskit/qiskit.primitives.StatevectorSampler"
      ]
    },
    {
      "cell_type": "code",
      "execution_count": 14,
      "metadata": {
        "execution": {
          "iopub.execute_input": "2024-09-28T20:56:58.517922Z",
          "iopub.status.busy": "2024-09-28T20:56:58.517492Z",
          "iopub.status.idle": "2024-09-28T20:56:58.523839Z",
          "shell.execute_reply": "2024-09-28T20:56:58.522552Z",
          "shell.execute_reply.started": "2024-09-28T20:56:58.517890Z"
        },
        "id": "Tf0q46ifij9z",
        "trusted": true
      },
      "outputs": [],
      "source": [
        "from qiskit.primitives import StatevectorSampler\n",
        "\n",
        "sampler = StatevectorSampler()"
      ]
    },
    {
      "cell_type": "markdown",
      "metadata": {
        "id": "RMsrIyiQij9z"
      },
      "source": [
        "## Callback Function\n",
        "Importar pyplot para plotar gráfico da função custo pelas iterações - callback_graph"
      ]
    },
    {
      "cell_type": "code",
      "execution_count": 15,
      "metadata": {
        "execution": {
          "iopub.execute_input": "2024-10-08T13:34:01.124189Z",
          "iopub.status.busy": "2024-10-08T13:34:01.123761Z",
          "iopub.status.idle": "2024-10-08T13:34:01.131635Z",
          "shell.execute_reply": "2024-10-08T13:34:01.130408Z",
          "shell.execute_reply.started": "2024-10-08T13:34:01.124157Z"
        },
        "id": "6ubvYWgfij90",
        "trusted": true
      },
      "outputs": [],
      "source": [
        "from matplotlib import pyplot as plt\n",
        "from IPython.display import clear_output\n",
        "\n",
        "objective_func_vals = []\n",
        "plt.rcParams[\"figure.figsize\"]= (12,6)\n",
        "\n",
        "def callback_graph(weight, obj_func_eval):\n",
        "    clear_output(wait=True)\n",
        "    objective_func_vals.append(obj_func_eval)\n",
        "    plt.title(\"Função de Custo\")\n",
        "    plt.xlabel(\"Iterações\")\n",
        "    plt.ylabel(\"Função de Custo\")\n",
        "    plt.plot(range(len(objective_func_vals)), objective_func_vals)\n",
        "    plt.show()"
      ]
    },
    {
      "cell_type": "markdown",
      "metadata": {
        "id": "xKMPM8vsij90"
      },
      "source": [
        "\n",
        "## VQC\n",
        "Importar classificador VQC do Qiskit -> https://github.com/qiskit-community/qiskit-machine-learning // https://qiskit-community.github.io/qiskit-machine-learning/getting_started.html#installation\n",
        "\n",
        "VQC { sampler = sampler; feature_map = feature_map, ansatz = ansatz; optimizer = optimizer; callback = callback_graph }\n",
        "\n",
        "Importar time para visualizar o tempo de execução\n",
        "\n",
        "VQC.fit(train_features, train_labels.values)"
      ]
    },
    {
      "cell_type": "code",
      "execution_count": null,
      "metadata": {
        "colab": {
          "base_uri": "https://localhost:8080/",
          "height": 1000
        },
        "execution": {
          "iopub.execute_input": "2024-10-08T13:34:48.859736Z",
          "iopub.status.busy": "2024-10-08T13:34:48.858755Z"
        },
        "id": "O4-ugAQ3ij90",
        "outputId": "827a0a53-b40f-4002-f479-4d682bcfc8b0",
        "trusted": true
      },
      "outputs": [
        {
          "name": "stdout",
          "output_type": "stream",
          "text": [
            "Training time: 23631 seconds\n"
          ]
        }
      ],
      "source": [
        "import time\n",
        "from qiskit_machine_learning.algorithms.classifiers import VQC\n",
        "\n",
        "vqc = VQC(\n",
        "    #sampler=sampler,\n",
        "    feature_map=feature_map,\n",
        "    ansatz=ansatz,\n",
        "    optimizer=optimizer,\n",
        "    callback=callback_graph,\n",
        ")\n",
        "\n",
        "objective_func_vals= []\n",
        "start = time.time()\n",
        "vqc.fit(train, y_train.values)\n",
        "elapsed = time.time() - start\n",
        "\n",
        "vqc.save(f'trained_models/{train_name}.model')\n",
        "\n",
        "print(f\"Training time: {round(elapsed)} seconds\")"
      ]
    },
    {
      "cell_type": "code",
      "execution_count": 17,
      "metadata": {
        "id": "LB1qP2vdij90"
      },
      "outputs": [
        {
          "name": "stdout",
          "output_type": "stream",
          "text": [
            "Acuracia: 95.0%\n"
          ]
        }
      ],
      "source": [
        "train_acc = vqc.score(train, y_train)\n",
        "print(f'Acuracia: {round(train_acc,2)*100}%')"
      ]
    },
    {
      "cell_type": "markdown",
      "metadata": {
        "id": "Eb7MTcDEij90"
      },
      "source": [
        "Rodar com o teste -> VQC.predict(test);\n",
        "\n",
        "Realizar avaliação dos resultados (acurácia, precisão, recall...)"
      ]
    },
    {
      "cell_type": "code",
      "execution_count": 18,
      "metadata": {
        "id": "fqMuFPj8mIuA"
      },
      "outputs": [
        {
          "data": {
            "text/plain": [
              "array([1., 1., 1., ..., 1., 1., 1.])"
            ]
          },
          "execution_count": 18,
          "metadata": {},
          "output_type": "execute_result"
        }
      ],
      "source": [
        "y_predicted = vqc.predict(test)\n",
        "\n",
        "y_predicted"
      ]
    },
    {
      "cell_type": "code",
      "execution_count": 19,
      "metadata": {
        "id": "GVR6yIltmB_u"
      },
      "outputs": [
        {
          "name": "stdout",
          "output_type": "stream",
          "text": [
            "              precision    recall  f1-score   support\n",
            "\n",
            "         0.0       1.00      0.83      0.91      6575\n",
            "         1.0       0.93      1.00      0.96     13655\n",
            "\n",
            "    accuracy                           0.95     20230\n",
            "   macro avg       0.96      0.92      0.94     20230\n",
            "weighted avg       0.95      0.95      0.94     20230\n",
            "\n"
          ]
        }
      ],
      "source": [
        "import sklearn.metrics as metrics\n",
        "print(metrics.classification_report(y_test, y_predicted))"
      ]
    },
    {
      "cell_type": "code",
      "execution_count": 20,
      "metadata": {
        "id": "2mnItdb9mvTW"
      },
      "outputs": [
        {
          "name": "stdout",
          "output_type": "stream",
          "text": [
            "[[ 5477  1098]\n",
            " [    0 13655]]\n"
          ]
        }
      ],
      "source": [
        "confusion_matrix = metrics.confusion_matrix(y_test, y_predicted)\n",
        "print(confusion_matrix)"
      ]
    },
    {
      "cell_type": "code",
      "execution_count": 22,
      "metadata": {},
      "outputs": [
        {
          "data": {
            "image/png": "[encoded data removed]",
            "text/plain": [
              "<Figure size 1200x600 with 1 Axes>"
            ]
          },
          "metadata": {},
          "output_type": "display_data"
        }
      ],
      "source": [
        "plt.title(\"Função de Custo\")\n",
        "plt.xlabel(\"Iterações\")\n",
        "plt.ylabel(\"Função de Custo\")\n",
        "plt.plot(range(len(objective_func_vals)), objective_func_vals)\n",
        "plt.show()"
      ]
    },
    {
      "cell_type": "code",
      "execution_count": 21,
      "metadata": {
        "id": "lsPoHzqgij91",
        "outputId": "6b930868-2a30-40f4-d7fd-df2c0790c32d"
      },
      "outputs": [
        {
          "ename": "ModuleNotFoundError",
          "evalue": "No module named 'google.colab'",
          "output_type": "error",
          "traceback": [
            "\u001b[1;31m---------------------------------------------------------------------------\u001b[0m",
            "\u001b[1;31mModuleNotFoundError\u001b[0m                       Traceback (most recent call last)",
            "Cell \u001b[1;32mIn[21], line 3\u001b[0m\n\u001b[0;32m      1\u001b[0m \u001b[38;5;28;01mfrom\u001b[39;00m \u001b[38;5;21;01mpandas\u001b[39;00m \u001b[38;5;28;01mimport\u001b[39;00m DataFrame\n\u001b[1;32m----> 3\u001b[0m \u001b[38;5;28;01mfrom\u001b[39;00m \u001b[38;5;21;01mgoogle\u001b[39;00m\u001b[38;5;21;01m.\u001b[39;00m\u001b[38;5;21;01mcolab\u001b[39;00m \u001b[38;5;28;01mimport\u001b[39;00m drive\n\u001b[0;32m      4\u001b[0m drive\u001b[38;5;241m.\u001b[39mmount(\u001b[38;5;124m'\u001b[39m\u001b[38;5;124m/content/gdrive\u001b[39m\u001b[38;5;124m'\u001b[39m)\n\u001b[0;32m      6\u001b[0m df \u001b[38;5;241m=\u001b[39m DataFrame(y_predicted)\n",
            "\u001b[1;31mModuleNotFoundError\u001b[0m: No module named 'google.colab'"
          ]
        }
      ],
      "source": [
        "from pandas import DataFrame\n",
        "\n",
        "from google.colab import drive\n",
        "drive.mount('/content/gdrive')\n",
        "\n",
        "df = DataFrame(y_predicted)\n",
        "df.to_csv('/content/gdrive/y_predicted.csv', index=False)"
      ]
    }
  ],
  "metadata": {
    "accelerator": "GPU",
    "colab": {
      "gpuType": "L4",
      "machine_shape": "hm",
      "provenance": []
    },
    "kaggle": {
      "accelerator": "none",
      "dataSources": [
        {
          "datasetId": 4511772,
          "sourceId": 8085987,
          "sourceType": "datasetVersion"
        },
        {
          "datasetId": 5661215,
          "sourceId": 9341409,
          "sourceType": "datasetVersion"
        }
      ],
      "dockerImageVersionId": 30664,
      "isGpuEnabled": false,
      "isInternetEnabled": true,
      "language": "python",
      "sourceType": "notebook"
    },
    "kernelspec": {
      "display_name": "Python 3",
      "name": "python3"
    },
    "language_info": {
      "codemirror_mode": {
        "name": "ipython",
        "version": 3
      },
      "file_extension": ".py",
      "mimetype": "text/x-python",
      "name": "python",
      "nbconvert_exporter": "python",
      "pygments_lexer": "ipython3",
      "version": "3.13.0"
    }
  },
  "nbformat": 4,
  "nbformat_minor": 0
}
